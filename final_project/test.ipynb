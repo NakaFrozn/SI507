{
 "cells": [
  {
   "cell_type": "code",
   "execution_count": 1,
   "metadata": {},
   "outputs": [],
   "source": [
    "import networkx as nx\n",
    "from pyecharts.charts import Graph\n",
    "from pyecharts import options as opts\n",
    "\n",
    "def build_subnetwork(G, player1, player2):\n",
    "    \"\"\"\n",
    "    Build a subnetwork for two players, including their overlapping connections.\n",
    "\n",
    "    Parameters:\n",
    "    - G: The full NetworkX graph\n",
    "    - player1, player2: Names of the two selected players\n",
    "\n",
    "    Returns:\n",
    "    - A subgraph with overlapping connections and nodes\n",
    "    \"\"\"\n",
    "    # Extract neighbors for both players\n",
    "    neighbors1 = set(G.neighbors(player1))\n",
    "    neighbors2 = set(G.neighbors(player2))\n",
    "\n",
    "    # Identify overlapping players\n",
    "    overlapping = neighbors1 & neighbors2\n",
    "\n",
    "    # Create a subgraph\n",
    "    sub_nodes = {player1, player2} | neighbors1 | neighbors2\n",
    "    subgraph = G.subgraph(sub_nodes).copy()\n",
    "\n",
    "    # Add attributes to distinguish player types\n",
    "    for node in subgraph.nodes():\n",
    "        if node == player1 or node == player2:\n",
    "            subgraph.nodes[node][\"type\"] = \"selected\"\n",
    "        elif node in overlapping:\n",
    "            subgraph.nodes[node][\"type\"] = \"overlap\"\n",
    "        else:\n",
    "            subgraph.nodes[node][\"type\"] = \"neighbor\"\n",
    "\n",
    "    return subgraph"
   ]
  },
  {
   "cell_type": "code",
   "execution_count": 2,
   "metadata": {},
   "outputs": [],
   "source": [
    "def draw_subnetwork(G, player1, player2):\n",
    "    \"\"\"\n",
    "    Visualize the subnetwork of two players and their overlapping connections.\n",
    "\n",
    "    Parameters:\n",
    "    - G: The full NetworkX graph\n",
    "    - player1, player2: Names of the two selected players\n",
    "    \"\"\"\n",
    "    # Build the subgraph\n",
    "    subgraph = build_subnetwork(G, player1, player2)\n",
    "\n",
    "    # Prepare nodes and edges for Pyecharts\n",
    "    nodes = []\n",
    "    for node, data in subgraph.nodes(data=True):\n",
    "        node_type = data.get(\"type\", \"neighbor\")\n",
    "        color = (\n",
    "            \"red\" if node_type == \"selected\"\n",
    "            else \"green\" if node_type == \"overlap\"\n",
    "            else \"blue\"\n",
    "        )\n",
    "        nodes.append({\n",
    "            \"name\": node,\n",
    "            \"value\": data.get(\"player_value\", 0),\n",
    "            \"symbolSize\": max(data.get(\"player_value\", 0) / 100000, 10),\n",
    "            \"itemStyle\": {\"color\": color},  # Color nodes by type\n",
    "        })\n",
    "\n",
    "    edges = [{\"source\": u, \"target\": v} for u, v in subgraph.edges()]\n",
    "\n",
    "    # Create the graph\n",
    "    graph = (\n",
    "        Graph()\n",
    "        .add(\n",
    "            \"\",\n",
    "            nodes,\n",
    "            edges,\n",
    "            repulsion=8000,  # Adjust repulsion for better spacing\n",
    "            label_opts=opts.LabelOpts(is_show=True, position=\"right\"),\n",
    "        )\n",
    "        .set_global_opts(\n",
    "            title_opts=opts.TitleOpts(\n",
    "                title=f\"Network for {player1} and {player2} with Overlapping Players\"\n",
    "            ),\n",
    "            tooltip_opts=opts.TooltipOpts(formatter=\"{b}: {c}\"),\n",
    "        )\n",
    "    )\n",
    "\n",
    "    # Render the graph to an HTML file\n",
    "    output_file = f\"pyecharts_subnetwork_{player1}_{player2}.html\"\n",
    "    graph.render(output_file)\n",
    "    print(f\"Graph saved to {output_file}\")\n"
   ]
  },
  {
   "cell_type": "code",
   "execution_count": 3,
   "metadata": {},
   "outputs": [],
   "source": [
    "def draw_subnetwork(G, player1, player2):\n",
    "    \"\"\"\n",
    "    Visualize the subnetwork of two players and their overlapping connections.\n",
    "\n",
    "    Parameters:\n",
    "    - G: The full NetworkX graph\n",
    "    - player1, player2: Names of the two selected players\n",
    "    \"\"\"\n",
    "    # Build the subgraph\n",
    "    subgraph = build_subnetwork(G, player1, player2)\n",
    "\n",
    "    # Prepare nodes and edges for Pyecharts\n",
    "    nodes = []\n",
    "    for node, data in subgraph.nodes(data=True):\n",
    "        node_type = data.get(\"type\", \"neighbor\")\n",
    "        color = (\n",
    "            \"red\" if node_type == \"selected\"\n",
    "            else \"green\" if node_type == \"overlap\"\n",
    "            else \"blue\"\n",
    "        )\n",
    "        nodes.append({\n",
    "            \"name\": node,\n",
    "            \"value\": data.get(\"player_value\", 0),\n",
    "            \"symbolSize\": max(data.get(\"player_value\", 0) / 100000, 10),\n",
    "            \"itemStyle\": {\"color\": color},  # Color nodes by type\n",
    "        })\n",
    "\n",
    "    edges = [{\"source\": u, \"target\": v} for u, v in subgraph.edges()]\n",
    "\n",
    "    # Create the graph\n",
    "    graph = (\n",
    "        Graph()\n",
    "        .add(\n",
    "            \"\",\n",
    "            nodes,\n",
    "            edges,\n",
    "            repulsion=8000,  # Adjust repulsion for better spacing\n",
    "            label_opts=opts.LabelOpts(is_show=True, position=\"right\"),\n",
    "        )\n",
    "        .set_global_opts(\n",
    "            title_opts=opts.TitleOpts(\n",
    "                title=f\"Network for {player1} and {player2} with Overlapping Players\"\n",
    "            ),\n",
    "            tooltip_opts=opts.TooltipOpts(formatter=\"{b}: {c}\"),\n",
    "        )\n",
    "    )\n",
    "\n",
    "    # Render the graph to an HTML file\n",
    "    output_file = f\"pyecharts_subnetwork_{player1}_{player2}.html\"\n",
    "    graph.render(output_file)\n",
    "    print(f\"Graph saved to {output_file}\")\n"
   ]
  },
  {
   "cell_type": "code",
   "execution_count": 4,
   "metadata": {},
   "outputs": [
    {
     "name": "stdout",
     "output_type": "stream",
     "text": [
      "Graph saved to pyecharts_subnetwork_Player1_Player2.html\n"
     ]
    }
   ],
   "source": [
    "# Create a sample NetworkX graph\n",
    "G = nx.Graph()\n",
    "G.add_node(\"Player1\", player_value=2000000)\n",
    "G.add_node(\"Player2\", player_value=1500000)\n",
    "G.add_node(\"Player3\", player_value=3000000)\n",
    "G.add_node(\"Player4\", player_value=1000000)\n",
    "G.add_node(\"Player5\", player_value=2500000)\n",
    "G.add_edges_from([\n",
    "    (\"Player1\", \"Player3\"),\n",
    "    (\"Player1\", \"Player4\"),\n",
    "    (\"Player2\", \"Player3\"),\n",
    "    (\"Player2\", \"Player5\"),\n",
    "    (\"Player3\", \"Player4\"),\n",
    "])\n",
    "\n",
    "# Visualize the subnetwork for Player1 and Player2\n",
    "draw_subnetwork(G, \"Player1\", \"Player2\")\n"
   ]
  },
  {
   "cell_type": "code",
   "execution_count": 1,
   "metadata": {},
   "outputs": [],
   "source": [
    "import pandas as pd"
   ]
  },
  {
   "cell_type": "code",
   "execution_count": 2,
   "metadata": {},
   "outputs": [],
   "source": [
    "club = pd.read_csv(\"./data/clubs.csv\")"
   ]
  },
  {
   "cell_type": "code",
   "execution_count": 3,
   "metadata": {},
   "outputs": [
    {
     "data": {
      "text/plain": [
       "domestic_competition_id\n",
       "TR1     42\n",
       "IT1     38\n",
       "GB1     37\n",
       "UKR1    36\n",
       "FR1     35\n",
       "RU1     34\n",
       "PO1     34\n",
       "ES1     32\n",
       "L1      31\n",
       "GR1     29\n",
       "NL1     28\n",
       "BE1     27\n",
       "DK1     20\n",
       "SC1     16\n",
       "Name: count, dtype: int64"
      ]
     },
     "execution_count": 3,
     "metadata": {},
     "output_type": "execute_result"
    }
   ],
   "source": [
    "club['domestic_competition_id'].value_counts()"
   ]
  }
 ],
 "metadata": {
  "kernelspec": {
   "display_name": "Python 3",
   "language": "python",
   "name": "python3"
  },
  "language_info": {
   "codemirror_mode": {
    "name": "ipython",
    "version": 3
   },
   "file_extension": ".py",
   "mimetype": "text/x-python",
   "name": "python",
   "nbconvert_exporter": "python",
   "pygments_lexer": "ipython3",
   "version": "3.12.5"
  }
 },
 "nbformat": 4,
 "nbformat_minor": 2
}
