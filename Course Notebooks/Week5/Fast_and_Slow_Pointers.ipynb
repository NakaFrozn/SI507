{
 "cells": [
  {
   "cell_type": "markdown",
   "id": "08ca4002-31e1-466c-8ce1-e8e4fa568196",
   "metadata": {},
   "source": [
    "# LeetCode problems"
   ]
  },
  {
   "cell_type": "markdown",
   "id": "6dd35ad0-b74b-48c7-8483-8525806ef1ea",
   "metadata": {},
   "source": [
    "## Slow and Fast pointers!!"
   ]
  },
  {
   "cell_type": "markdown",
   "id": "e70b2100-e92c-470a-b7d7-5cfd9be14b5b",
   "metadata": {},
   "source": [
    "### Question 1: Given the head of a Singly LinkedList, write a function to determine if the LinkedList has a cycle in it or not."
   ]
  },
  {
   "cell_type": "code",
   "execution_count": 1,
   "id": "372cccd9-bf65-4ecc-9828-ca0cea7f681c",
   "metadata": {
    "tags": []
   },
   "outputs": [],
   "source": [
    "def hasCycle(head):\n",
    "    pass"
   ]
  },
  {
   "cell_type": "code",
   "execution_count": 2,
   "id": "70f930ee-3ab4-4079-b959-3d7040bf06ce",
   "metadata": {
    "tags": []
   },
   "outputs": [],
   "source": [
    "class Node:\n",
    "    def __init__(self, value, next=None):\n",
    "        self.val = value\n",
    "        self.next = next\n",
    "\n",
    "head = Node(1)\n",
    "head.next = Node(2)\n",
    "head.next.next = Node(3)\n",
    "head.next.next.next = Node(4)\n",
    "head.next.next.next.next = Node(5)\n",
    "head.next.next.next.next.next = Node(6)\n",
    "  \n",
    "# Create a cycle in the linked list\n",
    "head.next.next.next.next.next.next = head.next.next"
   ]
  },
  {
   "cell_type": "markdown",
   "id": "211adf30-c9e7-448f-a380-4fc29843f1d9",
   "metadata": {
    "tags": []
   },
   "source": [
    "### Question 2: Given the head of a LinkedList with a cycle, find the length of the cycle."
   ]
  },
  {
   "cell_type": "code",
   "execution_count": null,
   "id": "6cfc8107-46b1-46e6-a17c-3ae24613ba1c",
   "metadata": {},
   "outputs": [],
   "source": [
    "def findCycleLength(head):\n",
    "    pass\n",
    "\n",
    "def calculate_cycle_length(slow):\n",
    "    pass"
   ]
  },
  {
   "cell_type": "markdown",
   "id": "139bce6b-dc9d-4449-84d0-b567390d4a6b",
   "metadata": {},
   "source": [
    "### Question 3: Given the head of a Singly LinkedList, write a method to return the middle node of the LinkedList. \n",
    "### If the total number of nodes in the LinkedList is even, return the second middle node."
   ]
  },
  {
   "cell_type": "code",
   "execution_count": 4,
   "id": "30067f67-ec9e-409b-ab16-7ee98fdb5fb1",
   "metadata": {
    "tags": []
   },
   "outputs": [],
   "source": [
    "def findMiddle(head):\n",
    "    \"\"\"Find the middle of the linked list\"\"\"\n",
    "    slow, fast = head, head\n",
    "    while fast and fast.next: \n",
    "        # if fast.next is None, fast is the last node of the list, slow now will be the middle.\n",
    "        slow = slow.next\n",
    "        fast = fast.next.next\n",
    "\n",
    "    return slow\n",
    "\n"
   ]
  },
  {
   "cell_type": "markdown",
   "id": "d8d8da8a-5426-406a-acfc-a32d0d830b1d",
   "metadata": {
    "tags": []
   },
   "source": [
    "### Question 4: Given the head of a Singly LinkedList that contains a cycle, write a function to find the starting node of the cycle."
   ]
  },
  {
   "cell_type": "code",
   "execution_count": 1,
   "id": "a402b23e-efbc-4b61-adec-b72dd50f92b0",
   "metadata": {
    "tags": []
   },
   "outputs": [],
   "source": [
    "# Given the head of a Singly LinkedList that contains a cycle, write a function to find the starting node of the cycle.\n",
    "\n",
    "def find_cycle_start(head, ):\n",
    "    slow, fast = head, head\n",
    "    while fast and fast.next:\n",
    "          slow = slow.next\n",
    "          fast = fast.next.next\n",
    "          if slow == fast:\n",
    "              return get_start_node(head, slow)\n",
    "    return None\n",
    "\n",
    "def get_start_node(head, slow):\n",
    "      "
   ]
  },
  {
   "cell_type": "markdown",
   "id": "5e313e7a-5b95-4a0c-8398-adad9d940259",
   "metadata": {
    "tags": []
   },
   "source": [
    "### Question 5: Given the head of a Singly LinkedList, reverse the LinkedList. Write a function to return the new head of the reversed LinkedList.\n"
   ]
  },
  {
   "cell_type": "code",
   "execution_count": 11,
   "id": "db7b7206-c416-4401-99ad-863e46b164a4",
   "metadata": {
    "tags": []
   },
   "outputs": [],
   "source": [
    "def reverse(head):\n",
    "    current, previous, next = head, None, None\n",
    "    while current:\n",
    "        next = current.next          # temporarily store the next node in next\n",
    "        current.next = previous      # reverse the current node by connect the next to the previous node\n",
    "        previous = current         # move previous to the current node\n",
    "        current = next             # move current to the next node\n"
   ]
  },
  {
   "cell_type": "markdown",
   "id": "db5abf96-03c2-4d79-b228-7ecd126d9ca6",
   "metadata": {},
   "source": [
    "### Question 6: Given the head of a LinkedList and two positions ‘p’ and ‘q’, reverse the LinkedList from position ‘p’ to ‘q’.\n"
   ]
  },
  {
   "cell_type": "code",
   "execution_count": 7,
   "id": "fcbd1073-8819-498e-8ee8-2fab76e8e162",
   "metadata": {
    "tags": []
   },
   "outputs": [],
   "source": [
    "def reverse(head, p, q):\n",
    "    \n",
    "    if p == q:\n",
    "        return head\n",
    "    current, previous = head, None\n",
    "    i = 0\n",
    "    while current and i < p - 1: # first loop over the list to find the pth node\n",
    "        previous = current\n",
    "        current = current.next\n",
    "        i += 1\n",
    "    \n",
    "    last_node_of_first_part = previous\n",
    "    first_node_of_sub_list = current\n",
    "\n",
    "    i = 0\n",
    "    while current and i < q - p + 1:\n",
    "        next = current.next\n",
    "        current.next = previous\n",
    "        previous = current\n",
    "        current = next\n",
    "        i += 1\n",
    "    \n",
    "    if last_node_of_first_part:\n",
    "        last_node_of_first_part.next = previous # if p == 0, then the head of the list is the last node of the reversed list\n",
    "    else:\n",
    "        head = previous \n",
    "    \n",
    "    first_node_of_sub_list.next = current\n",
    "    return head\n",
    "\n",
    "\n"
   ]
  },
  {
   "cell_type": "markdown",
   "id": "ad26a83a-2c64-4066-96e7-2e02d11e56fb",
   "metadata": {},
   "source": [
    "### Question 7: Given the head of a Singly LinkedList, write a method to check if the LinkedList is a palindrome or not."
   ]
  },
  {
   "cell_type": "code",
   "execution_count": 12,
   "id": "d0cfeb65-536b-4020-9035-bd35c9ff421f",
   "metadata": {
    "tags": []
   },
   "outputs": [],
   "source": [
    "def is_palindrome(head):\n",
    "    pass"
   ]
  },
  {
   "cell_type": "markdown",
   "id": "b8c7d51d-9bc8-4204-b02a-68900da72e71",
   "metadata": {},
   "source": [
    "### Question 8: Given the head of a Singly LinkedList, write a method to modify the LinkedList such that the nodes from the second half of the LinkedList are inserted alternately to the nodes from the first half in reverse order."
   ]
  },
  {
   "cell_type": "code",
   "execution_count": null,
   "id": "9d15b41a-54a6-43b9-9e3e-91d749e67178",
   "metadata": {},
   "outputs": [],
   "source": [
    "def reorder(head):\n",
    "    pass"
   ]
  }
 ],
 "metadata": {
  "kernelspec": {
   "display_name": "Python 3 (ipykernel)",
   "language": "python",
   "name": "python3"
  },
  "language_info": {
   "codemirror_mode": {
    "name": "ipython",
    "version": 3
   },
   "file_extension": ".py",
   "mimetype": "text/x-python",
   "name": "python",
   "nbconvert_exporter": "python",
   "pygments_lexer": "ipython3",
   "version": "3.12.5"
  }
 },
 "nbformat": 4,
 "nbformat_minor": 5
}
