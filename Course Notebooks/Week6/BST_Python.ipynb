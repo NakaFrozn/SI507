{
  "cells": [
    {
      "cell_type": "markdown",
      "metadata": {
        "id": "lwVFvOC4bX8j"
      },
      "source": [
        "\n",
        "[tinyurl.com/BSTpythonImplementation](https://)\n"
      ]
    },
    {
      "cell_type": "code",
      "execution_count": null,
      "metadata": {
        "id": "J9t7kR2Zgm1h"
      },
      "outputs": [],
      "source": [
        "class TreeNode:\n",
        "    def __init__(self,key,val,left=None,right=None,parent=None):\n",
        "        self.key = key\n",
        "        self.payload = val\n",
        "        self.leftChild = left\n",
        "        self.rightChild = right\n",
        "        self.parent = parent\n",
        "\n",
        "    def hasLeftChild(self):\n",
        "        return self.leftChild\n",
        "\n",
        "    def hasRightChild(self):\n",
        "        return self.rightChild\n",
        "\n",
        "    def isLeftChild(self):\n",
        "        return self.parent and self.parent.leftChild == self\n",
        "\n",
        "    def isRightChild(self):\n",
        "        return self.parent and self.parent.rightChild == self\n",
        "\n",
        "    def isRoot(self):\n",
        "        return not self.parent\n",
        "\n",
        "    def isLeaf(self):\n",
        "        return not (self.rightChild or self.leftChild)\n",
        "\n",
        "    def hasAnyChildren(self):\n",
        "        return self.rightChild or self.leftChild\n",
        "\n",
        "    def hasBothChildren(self):\n",
        "        return self.rightChild and self.leftChild\n",
        "\n",
        "    def replaceNodeData(self,key,value,lc,rc):\n",
        "        self.key = key\n",
        "        self.payload = value\n",
        "        self.leftChild = lc\n",
        "        self.rightChild = rc\n",
        "        if self.hasLeftChild():\n",
        "            self.leftChild.parent = self\n",
        "        if self.hasRightChild():\n",
        "            self.rightChild.parent = self"
      ]
    },
    {
      "cell_type": "code",
      "execution_count": null,
      "metadata": {
        "id": "h0Z8ZmqBf3Ve"
      },
      "outputs": [],
      "source": [
        "class BinarySearchTree:\n",
        "\n",
        "    def __init__(self):\n",
        "        self.root = None\n",
        "        self.size = 0\n",
        "\n",
        "    def length(self):\n",
        "        return self.size\n",
        "\n",
        "    def __len__(self):\n",
        "        return self.size\n",
        "\n",
        "    def __iter__(self):\n",
        "        return self.root.__iter__()\n",
        "\n",
        "    ##### annotate above here\n",
        "\n",
        "    def put(self,key,val):\n",
        "      if self.root:\n",
        "        self._put(key,val, self.root)\n",
        "      else:\n",
        "        self.root = TreeNode(key,val)\n",
        "      self.size = self.size + 1\n",
        "\n",
        "    def _put(self,key,val,currentNode):\n",
        "      if key < currentNode.key:\n",
        "        if currentNode.hasLeftChild():\n",
        "          self._put(key,val,currentNode.leftChild)\n",
        "        else:\n",
        "          currentNode.leftChild = TreeNode(key,val,parent=currentNode)\n",
        "      else:\n",
        "        if currentNode.hasRightChild():\n",
        "            self._put(key,val,currentNode.rightChild)\n",
        "        else:\n",
        "          currentNode.rightChild = TreeNode(key,val,parent=currentNode)\n",
        "\n",
        "    def get(self,key):\n",
        "      if self.root:\n",
        "        res = self._get(key,self.root)\n",
        "        if res:\n",
        "          return res.payload\n",
        "        else:\n",
        "          return None\n",
        "      else:\n",
        "        return None\n",
        "\n",
        "    def _get(self,key,currentNode):\n",
        "      if not currentNode:\n",
        "        return None\n",
        "      elif currentNode.key == key:\n",
        "        return currentNode\n",
        "      elif key < currentNode.key:\n",
        "        return self._get(key,currentNode.leftChild)\n",
        "      else:\n",
        "        return self._get(key,currentNode.rightChild)\n",
        "\n",
        "    def __getitem__(self,key):\n",
        "      return self.get(key)\n",
        "\n",
        "    def remove(self, node):\n",
        "      if node.isLeaf() and node.parent is not None: # if the node is a leaf and has no child\n",
        "        if node == node.parent.leftChild:\n",
        "          node.parent.leftChild = None\n",
        "        else:\n",
        "          node.parent.rightChild = None\n",
        "      elif node.hasAnyChildren() and node.hasBothChildren() is False:\n",
        "        \n"
      ]
    },
    {
      "cell_type": "markdown",
      "metadata": {
        "id": "wAARhJFLbn-q"
      },
      "source": [
        "You may recall that for dictionaries we can access individual values using a notation with bracketed keys (as shown below).  This actually works because the dicionary class has a magic method for getitem, just as we have implemented above. The magic method for getitem (.__getitem__) allows us to access nodes of our tree using that same dictionary like structure.\n",
        "\n",
        "Note that unlike dictionaries, BST keys can be, and often are, integers"
      ]
    },
    {
      "cell_type": "code",
      "execution_count": null,
      "metadata": {
        "id": "l7ePYup5XUWj"
      },
      "outputs": [],
      "source": [
        "myDictionary = {'a':8, 'b':6, 'c':5}\n"
      ]
    },
    {
      "cell_type": "code",
      "execution_count": null,
      "metadata": {
        "colab": {
          "base_uri": "https://localhost:8080/"
        },
        "id": "AG2B3F5PYpMD",
        "outputId": "88f21ddb-d72f-47be-8c5e-65c74c848407"
      },
      "outputs": [
        {
          "data": {
            "text/plain": [
              "6"
            ]
          },
          "execution_count": 6,
          "metadata": {},
          "output_type": "execute_result"
        }
      ],
      "source": [
        "myDictionary['b']"
      ]
    },
    {
      "cell_type": "code",
      "execution_count": null,
      "metadata": {
        "colab": {
          "base_uri": "https://localhost:8080/"
        },
        "id": "e-R5551fYwBy",
        "outputId": "1ac9ddff-7d6c-4391-90bf-d8e26cc98fea"
      },
      "outputs": [
        {
          "data": {
            "text/plain": [
              "6"
            ]
          },
          "execution_count": 7,
          "metadata": {},
          "output_type": "execute_result"
        }
      ],
      "source": [
        "myDictionary.__getitem__('b')"
      ]
    },
    {
      "cell_type": "code",
      "execution_count": null,
      "metadata": {
        "colab": {
          "base_uri": "https://localhost:8080/",
          "height": 35
        },
        "id": "K1RFPmwbmXck",
        "outputId": "e16e0910-12de-4aed-875f-5344030c70b6"
      },
      "outputs": [
        {
          "data": {
            "application/vnd.google.colaboratory.intrinsic+json": {
              "type": "string"
            },
            "text/plain": [
              "'Data1'"
            ]
          },
          "execution_count": 21,
          "metadata": {},
          "output_type": "execute_result"
        }
      ],
      "source": [
        "Gary = BinarySearchTree() # the BST is called Gary to demonstrate that teh variable name is arbitrary\n",
        "Gary.put(70, 'Data1')\n",
        "Gary.get(70)"
      ]
    },
    {
      "cell_type": "code",
      "execution_count": null,
      "metadata": {
        "colab": {
          "base_uri": "https://localhost:8080/",
          "height": 35
        },
        "id": "C3Xp5eWci-l9",
        "outputId": "b5ae0e3d-12e6-4190-a5b1-427a4a7bada9"
      },
      "outputs": [
        {
          "data": {
            "application/vnd.google.colaboratory.intrinsic+json": {
              "type": "string"
            },
            "text/plain": [
              "'Data1'"
            ]
          },
          "execution_count": 22,
          "metadata": {},
          "output_type": "execute_result"
        }
      ],
      "source": [
        "Gary[70] ## the .__getitem__() method allows us to access nodes by their key using dictionary style keys"
      ]
    }
  ],
  "metadata": {
    "colab": {
      "provenance": []
    },
    "kernelspec": {
      "display_name": "Python 3",
      "name": "python3"
    },
    "language_info": {
      "name": "python"
    }
  },
  "nbformat": 4,
  "nbformat_minor": 0
}
