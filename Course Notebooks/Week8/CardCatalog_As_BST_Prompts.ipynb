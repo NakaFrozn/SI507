{
  "cells": [
    {
      "cell_type": "markdown",
      "metadata": {
        "id": "ebhbNm7iBO5e"
      },
      "source": [
        "# [tinyurl.com/CardCatalogExercise](https://)"
      ]
    },
    {
      "cell_type": "markdown",
      "metadata": {
        "id": "C5iUSOb_5oVR"
      },
      "source": [
        "\n",
        "1. **Class Initialization**:\n",
        "    - Define a class named `Book` with an initializer method (`__init__`) that takes three parameters: `title`, `author`, and `isbn`.\n",
        "    - Inside the initializer method, set the attributes `title`, `author`, and `isbn` to the values passed as parameters.\n",
        "\n",
        "2. **String Representation**:\n",
        "    - Implement a `__str__` method within the `Book` class.\n",
        "    - Within the `__str__` method, return a formatted string that includes the title and author of the book.\n",
        "\n",
        "3. **Test Code**:\n",
        "    - Create objects of the class book with the following title, author and ISBN\n",
        "        -  To Kill a Mockingbird, Harper Lee, 9780061120084\n",
        "        -  Pride and Prejudice, Jane Austen, 9780141439518\n",
        "        -  1984, George Orwell, 9780451524935\n",
        "        -  The Great Gatsby, F. Scott Fitzgerald, 9780743273565\n",
        "        -  Moby-Dick, Herman Melville, 9781853260087\n",
        "        -  War and Peace, Leo Tolstoy, 9780192833983\n",
        "        -  The Hobbit, J.R.R. Tolkien, 9780547928227\n",
        "\n"
      ]
    },
    {
      "cell_type": "code",
      "execution_count": 6,
      "metadata": {
        "id": "AzkulqUG5laB"
      },
      "outputs": [],
      "source": [
        "Data = [('To Kill a Mockingbird', 'Harper Lee', 9780061120084),\n",
        "('Pride and Prejudice', 'Jane Austen', 9780141439518),\n",
        "('1984', 'George Orwell', 9780451524935),\n",
        "('The Great Gatsby', 'F. Scott Fitzgerald', 9780743273565),\n",
        "('Moby-Dick', 'Herman Melville', 9781853260087),\n",
        "('War and Peace', 'Leo Tolstoy', 9780192833983),\n",
        "('The Hobbit', 'J.R.R. Tolkien', 9780547928227)]"
      ]
    },
    {
      "cell_type": "code",
      "execution_count": 9,
      "metadata": {
        "id": "k_BKzx--rMT7"
      },
      "outputs": [
        {
          "name": "stdout",
          "output_type": "stream",
          "text": [
            "To Kill a Mockingbird, Harper Lee, 9780061120084\n",
            "Pride and Prejudice, Jane Austen, 9780141439518\n",
            "1984, George Orwell, 9780451524935\n",
            "The Great Gatsby, F. Scott Fitzgerald, 9780743273565\n",
            "Moby-Dick, Herman Melville, 9781853260087\n",
            "War and Peace, Leo Tolstoy, 9780192833983\n",
            "The Hobbit, J.R.R. Tolkien, 9780547928227\n"
          ]
        }
      ],
      "source": [
        "class Book:\n",
        "  def __init__(self, title, author, isbn) -> None:\n",
        "    self.title = title\n",
        "    self.author = author\n",
        "    self.isbn = isbn\n",
        "  def __str__(self) -> str:\n",
        "    return f\"{self.title}, {self.author}, {self.isbn}\"\n",
        "\n",
        "books = [Book(*row) for row in Data]\n",
        "for book in books:\n",
        "  print(book)\n"
      ]
    },
    {
      "cell_type": "code",
      "execution_count": 10,
      "metadata": {
        "id": "PyDxlVseslaR"
      },
      "outputs": [
        {
          "name": "stdout",
          "output_type": "stream",
          "text": [
            "9780061120084\n",
            "9780141439518\n",
            "9780451524935\n",
            "9780743273565\n",
            "9781853260087\n",
            "9780192833983\n",
            "9780547928227\n"
          ]
        }
      ],
      "source": [
        "for b in books:\n",
        "  print(b.isbn)"
      ]
    },
    {
      "cell_type": "markdown",
      "metadata": {
        "id": "WBo-5NIv6_BI"
      },
      "source": [
        "Lets implement a Node class that can be used to build a BST\n",
        "\n",
        "1. **Class Initialization**:\n",
        "    - Define a class named `CatalogNode`.\n",
        "    - Implement an initializer method (`__init__`) that takes a parameter named `book`.\n",
        "    - Inside the initializer method, create instance variables `book`, `left`, and `right`.\n",
        "    - Set the `book` instance variable to the value of the `book` parameter.\n",
        "    - Initialize the `left` and `right` instance variables to `None`.\n",
        "\n",
        "2. **Test Initialization**:\n",
        "    - Write test code to create instances of the `CatalogNode` class.\n",
        "    - Create a `Book` object to be used as the parameter for the `CatalogNode` initialization.\n",
        "\n",
        "3. **Printing the Node**:\n",
        "    - Implement a method named `__str__` within the `CatalogNode` class.\n",
        "    - Within the `__str__` method, return a formatted string that includes information about the book stored in the node.\n",
        "\n",
        "4. **Testing the Printing Method**:\n",
        "    - Write test code to create a `CatalogNode` object and print its string representation.\n",
        "    - Verify that the printed output contains the information about the book stored in the node.\n",
        "\n"
      ]
    },
    {
      "cell_type": "code",
      "execution_count": 13,
      "metadata": {
        "id": "U236aGpV6nTG"
      },
      "outputs": [
        {
          "name": "stdout",
          "output_type": "stream",
          "text": [
            "1984, George Orwell, 9780451524935\n",
            "1984, George Orwell, 9780451524935\n"
          ]
        }
      ],
      "source": [
        "class CatalogNode:\n",
        "  def __init__(self, book):\n",
        "      self.book = book\n",
        "      self.left = None\n",
        "      self.right = None\n",
        "  def __str__(self):\n",
        "    return f\"{self.book}\"\n",
        "\n",
        "\n",
        "\n",
        "testCard1 = CatalogNode(books[2])\n",
        "print(testCard1.book)\n",
        "print(testCard1)"
      ]
    },
    {
      "cell_type": "markdown",
      "metadata": {
        "id": "cJEXGfbu7Ymf"
      },
      "source": [
        "Use the folowing prompts to build a BST class called Catalog that organizes the CatalogNode you implemented above\n",
        "\n",
        "### Methods and Attributes:\n",
        "\n",
        "1. **Constructor (`__init__`):**\n",
        "   - Initialize an instance of the Catalog class.\n",
        "   - Set the root node of the BST to None initially.\n",
        "\n",
        "2. **Insert Book (`insert_book`):**\n",
        "   - Accepts a book object and inserts it into the catalog.\n",
        "   - If the catalog is empty (root is None), set the root to the new book.\n",
        "   - Otherwise, call a helper function to recursively insert the book based on its ISBN.\n",
        "\n",
        "3. **Recursive Insert Helper (`_insert_recursive`):**\n",
        "   - Recursively insert a book into the catalog based on its ISBN.\n",
        "   - If the ISBN of the new book is less than the ISBN of the current node's book, move to the left subtree.\n",
        "   - If the ISBN of the new book is greater than the ISBN of the current node's book, move to the right subtree.\n",
        "   - If the appropriate subtree is None, create a new node with the book and assign it to that subtree.\n",
        "   - Otherwise, continue traversing recursively.\n",
        "4. **In-Order Traversal (`inorder_traversal`):**\n",
        "   - Initiates an in-order traversal of the binary search tree (BST).\n",
        "   - If the catalog's root is not None (indicating the BST is not empty), call the _inorder_recursive helper method with the root node as its argument.\n",
        "   - consider whether parameters make sense for this method?\n",
        "   - the primary purpose of this method is to print out the book information stored in each node of the BST in sorted order, based on the books' ISBNs.\n",
        "\n",
        "5. **Recursive In-Order Traversal Helper (`_inorder_recursive`):**\n",
        "   - Recursively visits each node in the BST in an in-order sequence (left node, current node, right node) to print the book information.\n",
        "   - What arguments make sense here?\n",
        "   - If current is not None, the method first recursively calls itself with current.left to visit the left subtree. Then, it prints the current node's book information. Finally, it recursively calls itself with current.right to visit the right subtree.\n",
        "   - This method is designed to be called internally by the inorder_traversal method and is not intended to be invoked directly on the Catalog instance.\n",
        "\n",
        "4. **Attributes:**\n",
        "   - `root`: The root node of the binary search tree representing the catalog.\n",
        "\n",
        "You can re-arrange code from the following cell if you are having challenges"
      ]
    },
    {
      "cell_type": "code",
      "execution_count": 32,
      "metadata": {},
      "outputs": [],
      "source": [
        "class Catalog:\n",
        "    def __init__(self) -> None:\n",
        "        self.root = None\n",
        "    def insert_book(self, book: Book):\n",
        "        if self.root is None:\n",
        "            self.root = CatalogNode(book)\n",
        "        else:\n",
        "            self._insert_recursive(self.root, book)\n",
        "    def _insert_recursive(self, current:CatalogNode, book:Book):\n",
        "        if book.isbn < current.book.isbn:\n",
        "            if current.left:\n",
        "                self._insert_recursive(current.left, book)\n",
        "            else:\n",
        "                current.left = CatalogNode(book)\n",
        "        elif book.isbn > current.book.isbn:\n",
        "            if current.right:\n",
        "                self._insert_recursive(current.right, book)\n",
        "            else:\n",
        "                current.right = CatalogNode(book)\n",
        "    \n",
        "    def inorder_travesal(self):\n",
        "        if self.root:\n",
        "            self._inorder_travesal(self.root)\n",
        "    \n",
        "    def _inorder_travesal(self, current):\n",
        "        if current:\n",
        "            self._inorder_travesal(current.left)\n",
        "            print(current.book)\n",
        "            self._inorder_travesal(current.right)\n",
        "            \n"
      ]
    },
    {
      "cell_type": "code",
      "execution_count": 34,
      "metadata": {},
      "outputs": [],
      "source": [
        "CardCatalog = Catalog()\n",
        "for book in books:\n",
        "    CardCatalog.insert_book(book)"
      ]
    },
    {
      "cell_type": "code",
      "execution_count": 35,
      "metadata": {},
      "outputs": [
        {
          "name": "stdout",
          "output_type": "stream",
          "text": [
            "To Kill a Mockingbird, Harper Lee, 9780061120084\n",
            "Pride and Prejudice, Jane Austen, 9780141439518\n",
            "War and Peace, Leo Tolstoy, 9780192833983\n",
            "1984, George Orwell, 9780451524935\n",
            "The Hobbit, J.R.R. Tolkien, 9780547928227\n",
            "The Great Gatsby, F. Scott Fitzgerald, 9780743273565\n",
            "Moby-Dick, Herman Melville, 9781853260087\n"
          ]
        }
      ],
      "source": [
        "CardCatalog.inorder_travesal()"
      ]
    },
    {
      "cell_type": "code",
      "execution_count": null,
      "metadata": {
        "id": "B3gDSO28PeWO"
      },
      "outputs": [],
      "source": [
        "### test code\n",
        "CardCatalog._insert_recursive(CardCatalog.root, books[3])"
      ]
    }
  ],
  "metadata": {
    "colab": {
      "provenance": []
    },
    "kernelspec": {
      "display_name": "base",
      "language": "python",
      "name": "python3"
    },
    "language_info": {
      "codemirror_mode": {
        "name": "ipython",
        "version": 3
      },
      "file_extension": ".py",
      "mimetype": "text/x-python",
      "name": "python",
      "nbconvert_exporter": "python",
      "pygments_lexer": "ipython3",
      "version": "3.11.4"
    }
  },
  "nbformat": 4,
  "nbformat_minor": 0
}
