{
  "nbformat": 4,
  "nbformat_minor": 0,
  "metadata": {
    "colab": {
      "provenance": []
    },
    "kernelspec": {
      "name": "python3",
      "display_name": "Python 3"
    },
    "language_info": {
      "name": "python"
    }
  },
  "cells": [
    {
      "cell_type": "markdown",
      "source": [
        "https://tinyurl.com/QuakersInClass"
      ],
      "metadata": {
        "id": "dE9TXnnZKFH5"
      }
    },
    {
      "cell_type": "code",
      "source": [
        "# Parsons Problem: Rearrange the following lines to complete the Vertex class\n",
        "\n",
        "self.degree = len(self.connectedTo.keys())\n",
        "return str(self.id) + ' connectedTo: ' + str([x.id for x in self.connectedTo])\n",
        "\n",
        "def __init__(self, key):\n",
        "def getId(self):\n",
        "\n",
        "return self.connectedTo[nbr]\n",
        "self.id = key\n",
        "\n",
        "def calcDegree(self):\n",
        "def addNeighbor(self, nbr, weight=0):\n",
        "\n",
        "return self.connectedTo.keys()\n",
        "self.connectedTo[nbr] = weight\n",
        "\n",
        "self.connectedTo = {}\n",
        "self.degree = 0\n",
        "\n",
        "def getConnections(self):\n",
        "def __str__(self):\n",
        "\n",
        "def getWeight(self, nbr):\n"
      ],
      "metadata": {
        "id": "TZqFDq2p-D4B"
      },
      "execution_count": null,
      "outputs": []
    },
    {
      "cell_type": "code",
      "source": [
        "# Parsons Problem: Rearrange the following lines to complete the Graph class\n",
        "\n",
        "class Graph:\n",
        "\n",
        "self.vertList = {}\n",
        "self.numVertices = 0\n",
        "\n",
        "def __init__(self):\n",
        "\n",
        "def addVertex(self, key):\n",
        "\n",
        "newVertex = Vertex(key)\n",
        "self.vertList[key] = newVertex\n",
        "\n",
        "return newVertex\n",
        "\n",
        "if n in self.vertList:\n",
        "return self.vertList[n]\n",
        "\n",
        "else:\n",
        "return None\n",
        "\n",
        "def getVertex(self, n):\n",
        "\n",
        "return n in self.vertList\n",
        "self.numVertices = self.numVertices + 1\n",
        "\n",
        "nv = self.addVertex(t)\n",
        "def __contains__(self, n):\n",
        "\n",
        "if f not in self.vertList:\n",
        "nv = self.addVertex(f)\n",
        "\n",
        "self.vertList[f].addNeighbor(self.vertList[t], weight)\n",
        "\n",
        "if t not in self.vertList:\n",
        "\n",
        "\n",
        "def addEdge(self, f, t, weight=0):\n",
        "\n",
        "return self.vertList.keys()\n",
        "\n",
        "def getVertices(self):\n",
        "\n",
        "return iter(self.vertList.values())\n",
        "\n",
        "def __iter__(self):\n"
      ],
      "metadata": {
        "id": "Tqjn5MPmo-Im"
      },
      "execution_count": null,
      "outputs": []
    },
    {
      "cell_type": "code",
      "source": [
        "## if you defined Graph and Vertex classes properly the following test code should work\n",
        "\n",
        "g = Graph()\n",
        "for i in range(5):\n",
        "    g.addVertex(i)\n",
        "g.addEdge(0,1,5)\n",
        "g.addEdge(0,5,2)"
      ],
      "metadata": {
        "id": "1B3FXm2drumH"
      },
      "execution_count": null,
      "outputs": []
    },
    {
      "cell_type": "code",
      "source": [
        "g.vertList[3].id"
      ],
      "metadata": {
        "colab": {
          "base_uri": "https://localhost:8080/"
        },
        "id": "jtcnY5VM9Id2",
        "outputId": "e2088c62-5ce7-4a46-d184-3a8a38fc44a4"
      },
      "execution_count": null,
      "outputs": [
        {
          "output_type": "execute_result",
          "data": {
            "text/plain": [
              "3"
            ]
          },
          "metadata": {},
          "execution_count": 7
        }
      ]
    },
    {
      "cell_type": "code",
      "source": [
        "!git clone https://github.com/umsi-amadaman/Quaker.git"
      ],
      "metadata": {
        "id": "ThHsGxrRqrKY",
        "colab": {
          "base_uri": "https://localhost:8080/"
        },
        "outputId": "5a94b429-2a4d-44dc-b246-f65c7554fc3d"
      },
      "execution_count": null,
      "outputs": [
        {
          "output_type": "stream",
          "name": "stdout",
          "text": [
            "Cloning into 'Quaker'...\n",
            "remote: Enumerating objects: 7, done.\u001b[K\n",
            "remote: Counting objects: 100% (7/7), done.\u001b[K\n",
            "remote: Compressing objects: 100% (7/7), done.\u001b[K\n",
            "remote: Total 7 (delta 0), reused 0 (delta 0), pack-reused 0\u001b[K\n",
            "Receiving objects: 100% (7/7), 5.45 KiB | 5.45 MiB/s, done.\n"
          ]
        }
      ]
    },
    {
      "cell_type": "markdown",
      "source": [
        "\n",
        "*   Click on the folder icon to the left to see what hte file names are.\n",
        "*   Open those files and visually inspect the context to think about how to organize into a network\n",
        "*   Read the csv\n",
        "    *   Retrieve the data (using Python list comprhension and list slicing to remove the header row)\n",
        "*   Get a list of only the node names\n",
        "*  get a list of the edges"
      ],
      "metadata": {
        "id": "P60K4hnJH6xE"
      }
    },
    {
      "cell_type": "code",
      "source": [
        "import csv\n",
        "with open('/content/Quaker/quakers_vertexlist.csv', 'r') as vertexcsv:\n",
        "  pass\n",
        "\n",
        "with open('/content/Quaker/quakers_edgelist.csv', 'r') as edgecsv:\n",
        "  pass"
      ],
      "metadata": {
        "id": "IKjE6e5DCXeQ"
      },
      "execution_count": null,
      "outputs": []
    },
    {
      "cell_type": "code",
      "source": [
        "#### using code that draws upon how we built out the Graph g() above, lets build a network for quakers"
      ],
      "metadata": {
        "id": "Ry5YluWYJUrZ"
      },
      "execution_count": null,
      "outputs": []
    },
    {
      "cell_type": "code",
      "source": [
        "### Find the most connected Quaker\n",
        "# how do we do this?\n"
      ],
      "metadata": {
        "id": "98GBlKLYtbA_"
      },
      "execution_count": null,
      "outputs": []
    },
    {
      "cell_type": "code",
      "source": [
        "### Find the Quaker with the highest Betweenness centrality\n",
        "######## which Quaker is on the most shortest path?\n",
        "############# Should we use BFS or DFS?"
      ],
      "metadata": {
        "id": "iMPeNP-zDIsm"
      },
      "execution_count": null,
      "outputs": []
    },
    {
      "cell_type": "code",
      "source": [
        "# Parsons Problem: Rearrange the following lines to complete the BFS function\n",
        "\n",
        "queue = deque([start_vertex])\n",
        "discovered = {key: False for key in graph.getVertices()}\n",
        "\n",
        "if not discovered[neighbor_id]:\n",
        "    discovered[start_vertex] = True\n",
        "\n",
        "from collections import deque\n",
        "\n",
        "print(f\"Visited {current_vertex}\")\n",
        "current_vertex = queue.popleft()\n",
        "\n",
        "discovered[neighbor_id] = True\n",
        "for neighbor in graph.vertList[current_vertex].connectedTo:\n",
        "\n",
        "neighbor_id = neighbor.getId()\n",
        "queue.append(neighbor_id)\n",
        "\n",
        "while queue:\n",
        "def BFS(graph, start_vertex):\n",
        "\n",
        "######"
      ],
      "metadata": {
        "id": "d6HKwqzd9oub"
      },
      "execution_count": null,
      "outputs": []
    },
    {
      "cell_type": "code",
      "source": [
        "#If that BFS works we can use the following code to test\n",
        "class Vertex:\n",
        "  def __init__(self, key):\n",
        "    self.id = key\n",
        "    self.connectedTo = {}\n",
        "    self.degree = 0\n",
        "  def addNeighbor(self, nbr, weight=0):\n",
        "    self.connectedTo[nbr] = weight\n",
        "  def getId(self):\n",
        "    return self.id\n",
        "  def getWeight(self, nbr):\n",
        "    return self.connectedTo[nbr]\n",
        "  def getConnections(self):\n",
        "    return self.connectedTo.keys()\n",
        "  def calcDegree(self):\n",
        "     self.degree = len(self.connectedTo.keys())\n",
        "\n",
        "  def __str__(self):\n",
        "    #return str(self.id) + ‘is connected to ‘ + str((x.id, x.weight) for x in self.connectedTo)\n",
        "    return str(self.id) + ' connectedTo: ' + str([x.id for x in self.connectedTo])\n",
        "\n",
        "class Graph:\n",
        "    def __init__(self):\n",
        "        self.vertList = {}\n",
        "        self.numVertices = 0\n",
        "\n",
        "    def addVertex(self,key):\n",
        "        self.numVertices = self.numVertices + 1\n",
        "        newVertex = Vertex(key)\n",
        "        self.vertList[key] = newVertex\n",
        "        return newVertex\n",
        "\n",
        "    def getVertex(self,n):\n",
        "        if n in self.vertList:\n",
        "            return self.vertList[n]\n",
        "        else:\n",
        "            return None\n",
        "\n",
        "    def __contains__(self,n):\n",
        "        return n in self.vertList\n",
        "\n",
        "    def addEdge(self,f,t,weight=0):\n",
        "        if f not in self.vertList:\n",
        "            nv = self.addVertex(f)\n",
        "        if t not in self.vertList:\n",
        "            nv = self.addVertex(t)\n",
        "        self.vertList[f].addNeighbor(self.vertList[t], weight)\n",
        "\n",
        "    def getVertices(self):\n",
        "        return self.vertList.keys()\n",
        "\n",
        "    def __iter__(self):\n",
        "        return iter(self.vertList.values())\n",
        "g = Graph()\n",
        "for i in range(6):\n",
        "    g.addVertex(i)\n",
        "g.addEdge(2, 0, 3)\n",
        "g.addEdge(2, 3, 4)\n",
        "g.addEdge(2, 4, 1)\n",
        "g.addEdge(0, 1, 5)\n",
        "g.addEdge(0, 5, 2)\n",
        "\n",
        "# Perform BFS from vertex 2\n",
        "BFS(g, 2)"
      ],
      "metadata": {
        "id": "UXXoBybr9wvT"
      },
      "execution_count": null,
      "outputs": []
    },
    {
      "cell_type": "code",
      "source": [
        "from collections import deque\n",
        "\n",
        "# a modified BFS is adapted to keep track of all the paths from a start vertex to all the other vertices\n",
        "# this allows identifying all the shortest paths and the number\n",
        "# presence on those shortest paths is measured as betweenness centrality\n",
        "\n",
        "def BFS(graph, start_vertex, distances, predecessors, path_counts):\n",
        "    # Initialize the BFS queue with the start vertex\n",
        "    distances[start_vertex] = 0\n",
        "    path_counts[start_vertex] = 1\n",
        "    queue = deque([start_vertex])\n",
        "\n",
        "    while queue:\n",
        "        # Dequeue the next vertex to process\n",
        "        current_vertex = queue.popleft()\n",
        "\n",
        "        # Iterate over all neighbors of the current vertex\n",
        "        for neighbor in graph.vertList[current_vertex].connectedTo:\n",
        "            neighbor_id = neighbor.getId()\n",
        "\n",
        "            # Check if this neighbor has been discovered by checking its distance\n",
        "            if distances[neighbor_id] == -1:\n",
        "                # Mark the neighbor as discovered and add it to the queue\n",
        "                distances[neighbor_id] = distances[current_vertex] + 1\n",
        "                queue.append(neighbor_id)\n",
        "\n",
        "            # If this neighbor is exactly one level deeper, count the path\n",
        "            if distances[neighbor_id] == distances[current_vertex] + 1:\n",
        "                # Add the current vertex as a predecessor for dependency calculations\n",
        "                predecessors[neighbor_id].append(current_vertex)\n",
        "                # Accumulate the number of shortest paths leading to this neighbor\n",
        "                path_counts[neighbor_id] += path_counts[current_vertex]\n",
        "\n",
        "def calculate_betweenness_centrality(graph):\n",
        "    betweenness_centrality = {v: 0.0 for v in graph.vertList}\n",
        "    vertices = list(graph.vertList.keys())\n",
        "    n = len(vertices)\n",
        "\n",
        "    # Loop through each vertex to treat it as the source\n",
        "    for node in vertices:\n",
        "        # Initialize BFS-related dictionaries\n",
        "        distances = {v: -1 for v in vertices}  # Distance from the source\n",
        "        predecessors = {v: [] for v in vertices}  # Predecessors in shortest paths\n",
        "        path_counts = {v: 0 for v in vertices}  # Number of shortest paths to each vertex\n",
        "\n",
        "        # Perform BFS to calculate shortest paths from 'node'\n",
        "        BFS(graph, node, distances, predecessors, path_counts)\n",
        "\n",
        "        # Dependency accumulation phase to calculate betweenness\n",
        "        dependency = {v: 0.0 for v in vertices}\n",
        "        # Process each vertex in reverse distance order\n",
        "        for current_vertex in reversed(vertices):\n",
        "            # Propagate dependencies back to predecessors\n",
        "            for predecessor in predecessors[current_vertex]:\n",
        "                ratio = path_counts[predecessor] / path_counts[current_vertex]\n",
        "                dependency[predecessor] += ratio * (1 + dependency[current_vertex])\n",
        "            # Accumulate the betweenness score for non-source vertices\n",
        "            if current_vertex != node:\n",
        "                betweenness_centrality[current_vertex] += dependency[current_vertex]\n",
        "\n",
        "    # Optional normalization for undirected graphs\n",
        "    '''\n",
        "    if n > 2:\n",
        "        scale = 1.0 / ((n - 1) * (n - 2))\n",
        "        for vertex in betweenness_centrality:\n",
        "            betweenness_centrality[vertex] *= scale\n",
        "    '''\n",
        "\n",
        "    return betweenness_centrality\n",
        "\n",
        "\n",
        "# Example graph\n",
        "graph = Graph()\n",
        "graph.addEdge('A', 'B')\n",
        "graph.addEdge('A', 'C')\n",
        "graph.addEdge('B', 'D')\n",
        "graph.addEdge('C', 'D')\n",
        "graph.addEdge('D', 'E')\n",
        "\n",
        "betweenness_centrality = calculate_betweenness_centrality(graph)\n",
        "\n",
        "# Print the betweenness centrality values\n",
        "for node, centrality in betweenness_centrality.items():\n",
        "    print(f\"{node}: Betweenness Centrality = {centrality}\")"
      ],
      "metadata": {
        "id": "3wBlzBo5J8XF"
      },
      "execution_count": null,
      "outputs": []
    },
    {
      "cell_type": "code",
      "source": [
        "QuakerCentrality = calculate_betweenness_centrality(quakers)\n",
        "\n",
        "# Print the betweenness centrality values\n",
        "for node, centrality in QuakerCentrality.items():\n",
        "    print(f\"{node}: Betweenness Centrality = {centrality}\")"
      ],
      "metadata": {
        "id": "ZOxtIZX1_fx9"
      },
      "execution_count": null,
      "outputs": []
    },
    {
      "cell_type": "code",
      "source": [
        "import matplotlib.pyplot as plt\n",
        "\n",
        "QuakerMembers = list(ConnectedQuakers.keys())\n",
        "QCentrality = [QuakerCentrality[key] for key in QuakerMembers]\n",
        "QDegree = [ConnectedQuakers[key] for key in QuakerMembers]\n",
        "\n",
        "fig, ax = plt.subplots()\n",
        "ax.scatter(QDegree, QCentrality)\n",
        "\n",
        "\n",
        "for i, txt in enumerate(QuakerMembers):\n",
        "   ax.annotate(txt, ((QDegree[i]-2), QCentrality[i]+2))\n",
        "ax.set_ylabel('Betweenness Centrality')\n",
        "ax.set_xlabel('Degree')\n",
        "ax.set_xticks([0,1,2,3,4,5,6,7,8,9,10,15,20]);"
      ],
      "metadata": {
        "id": "kPBlXIZUOR0k"
      },
      "execution_count": null,
      "outputs": []
    },
    {
      "cell_type": "code",
      "source": [
        "# who are the top 6 in Centrality\n",
        "#we sort the dictionary by its values in ascending order using the sorted() function and\n",
        "#a lambda function that specifies that the items in the dictionary should be sorted by their second element (i.e., their value).\n",
        "sorted_centrality = dict(sorted(between_quakers.items(), key=lambda item:item[1], reverse=True))\n",
        "\n",
        "for name, centrality in sorted_centrality.items():\n",
        "    print(name, centrality, ConnectedQuakers[name])"
      ],
      "metadata": {
        "id": "c-A9FRjvKC8N"
      },
      "execution_count": null,
      "outputs": []
    },
    {
      "cell_type": "code",
      "source": [
        "#notice that there are 2 women, Margaret Fell and Mary Pennington in the top 6 in centrality.\n",
        "#yet their degree is 3 and 2 respsectively\n",
        "print(ConnectedQuakers['Margaret Fell'])\n",
        "print(ConnectedQuakers['Mary Penington'])"
      ],
      "metadata": {
        "id": "JSmN3SgC_sAi"
      },
      "execution_count": null,
      "outputs": []
    },
    {
      "cell_type": "code",
      "source": [
        "# Margaret Fell is the wife of George Fox and initially history thought of her solely in that role.\n",
        "# But network analysis and historical data have identified a more significant historical role.\n",
        "# After the death of George Fox in 1691, the Quaker movement became divided into two factions:\n",
        "# the \"Quietists\" and the \"Gurneyites.\" The Quietists believed in a more inward-focused spirituality and\n",
        "# rejected the outward expressions of Quakerism, such as vocal ministry and public meetings. The Gurneyites,\n",
        "# on the other hand, believed in a more outward-focused approach and supported the use of vocal ministry and\n",
        "# public meetings as a means of spreading the Quaker message.\n",
        "# Margaret Fell, who had been a close confidante of George Fox, was respected by both factions and played\n",
        "# an important role in bridging the divide between them. She urged both sides to seek unity and to focus on the\n",
        "# core principles of Quakerism, such as equality, simplicity, and peace. She also used her influence to mediate\n",
        "# disputes between the two factions and to encourage them to work together for the good of the movement.\n",
        "\n",
        "# Margaret Fell's efforts to promote unity and cooperation between the two factions were critical to the survival\n",
        "# and growth of the Quaker movement. Her leadership and diplomatic skills helped to prevent a permanent split in\n",
        "#the movement and to preserve its core principles and values.\n"
      ],
      "metadata": {
        "id": "t2MwjBSh_sb6"
      },
      "execution_count": null,
      "outputs": []
    }
  ]
}