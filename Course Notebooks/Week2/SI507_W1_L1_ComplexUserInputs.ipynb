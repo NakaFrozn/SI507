{
  "cells": [
    {
      "cell_type": "markdown",
      "metadata": {
        "colab_type": "text",
        "id": "view-in-github"
      },
      "source": [
        "<a href=\"https://colab.research.google.com/github/NakaFrozn/SI507/blob/main/SI507_W1_L1_ComplexUserInputs.ipynb\" target=\"_parent\"><img src=\"https://colab.research.google.com/assets/colab-badge.svg\" alt=\"Open In Colab\"/></a>"
      ]
    },
    {
      "cell_type": "markdown",
      "metadata": {
        "id": "KaYbKjy4WKZ4"
      },
      "source": [
        "# **Welcome to SI 507 Week 1 Lesson 1: Complex Uses of User Input.**\n",
        "\n",
        "# (https://tinyurl.com/y6egzg64)\n",
        "\n",
        "### **Review Basics of User Input**\n",
        "![picture](https://drive.google.com/uc?export=view&id=1TAWCfqxLaXIiMzPJaob5qIlt0jMY9K_5)\n",
        "\n",
        "As discussed previously, and as practiced in the Week 1 homework, the built-in function `input()` accepts user input in the form of a string by default.\n",
        "\n",
        "The built-infunctions of `int()` and `float()` can convert a string into an integer or float.\n",
        "\n",
        "Nesting the `input()` function within an `int()` or `float()` function can require the user input to be an integer or\n",
        "\n",
        "Let's play with these examples.\n",
        "\n",
        "**Best Practice: before executing the code, pause the video and make a prediction about what you think will happen. Doing this will engage metacognition and let you make deeper insights**\n"
      ]
    },
    {
      "cell_type": "code",
      "execution_count": 1,
      "metadata": {
        "colab": {
          "base_uri": "https://localhost:8080/",
          "height": 141
        },
        "id": "gpVon5-Q0ZIT",
        "outputId": "b1313a82-e9bf-4863-8199-96497c87f1f7"
      },
      "outputs": [
        {
          "ename": "NameError",
          "evalue": "name 'name44' is not defined",
          "output_type": "error",
          "traceback": [
            "\u001b[0;31m---------------------------------------------------------------------------\u001b[0m",
            "\u001b[0;31mNameError\u001b[0m                                 Traceback (most recent call last)",
            "Cell \u001b[0;32mIn[1], line 1\u001b[0m\n\u001b[0;32m----> 1\u001b[0m name44\n",
            "\u001b[0;31mNameError\u001b[0m: name 'name44' is not defined"
          ]
        }
      ],
      "source": [
        "name44"
      ]
    },
    {
      "cell_type": "code",
      "execution_count": 2,
      "metadata": {
        "id": "wWb-gteL5YaF"
      },
      "outputs": [],
      "source": [
        "name44 = 'Karl Anthony Towns'"
      ]
    },
    {
      "cell_type": "code",
      "execution_count": 3,
      "metadata": {
        "colab": {
          "base_uri": "https://localhost:8080/",
          "height": 287
        },
        "id": "0dAybaqTQ32b",
        "outputId": "322dd033-1151-40c6-9749-108371dac4ae"
      },
      "outputs": [],
      "source": [
        "name44 = input(\"What's your name?\")"
      ]
    },
    {
      "cell_type": "code",
      "execution_count": 4,
      "metadata": {
        "colab": {
          "base_uri": "https://localhost:8080/"
        },
        "id": "0OJB2M4ofp-3",
        "outputId": "276e2871-18ae-414d-ade9-975f531d1578"
      },
      "outputs": [
        {
          "name": "stdout",
          "output_type": "stream",
          "text": [
            "Jonas\n"
          ]
        }
      ],
      "source": [
        "print(name44)"
      ]
    },
    {
      "cell_type": "code",
      "execution_count": null,
      "metadata": {
        "colab": {
          "base_uri": "https://localhost:8080/"
        },
        "id": "XvEoig6K5jZk",
        "outputId": "4f4471a6-043f-430e-afee-58e43dc41eb5"
      },
      "outputs": [
        {
          "data": {
            "text/plain": [
              "str"
            ]
          },
          "execution_count": 5,
          "metadata": {},
          "output_type": "execute_result"
        }
      ],
      "source": [
        "type(name44)"
      ]
    },
    {
      "cell_type": "code",
      "execution_count": null,
      "metadata": {
        "colab": {
          "base_uri": "https://localhost:8080/",
          "height": 53
        },
        "id": "tCfKRCk-YYNQ",
        "outputId": "78a3075e-4582-4dca-82d9-a054abe57410"
      },
      "outputs": [
        {
          "name": "stdout",
          "output_type": "stream",
          "text": [
            "what will happen?Random\n"
          ]
        },
        {
          "data": {
            "application/vnd.google.colaboratory.intrinsic+json": {
              "type": "string"
            },
            "text/plain": [
              "'Random'"
            ]
          },
          "execution_count": 6,
          "metadata": {},
          "output_type": "execute_result"
        }
      ],
      "source": [
        "input('what will happen?')"
      ]
    },
    {
      "cell_type": "code",
      "execution_count": null,
      "metadata": {
        "colab": {
          "base_uri": "https://localhost:8080/"
        },
        "id": "h6qONb8naReL",
        "outputId": "84b53997-46c0-45a5-de30-abe9ab8ff46a"
      },
      "outputs": [
        {
          "name": "stdout",
          "output_type": "stream",
          "text": [
            "What's your name? Anthony Edwards\n",
            "Hello, Anthony Edwards!\n"
          ]
        }
      ],
      "source": [
        "name44 = input(\"What's your name? \")\n",
        "print(\"Hello, \"+ name44 + \"!\")\n"
      ]
    },
    {
      "cell_type": "code",
      "execution_count": null,
      "metadata": {
        "colab": {
          "base_uri": "https://localhost:8080/"
        },
        "id": "N2PODdi00R9D",
        "outputId": "7534e1e3-b8d7-4a63-da7e-24504b492e8d"
      },
      "outputs": [
        {
          "name": "stdout",
          "output_type": "stream",
          "text": [
            "Anthony Edwards\n"
          ]
        }
      ],
      "source": [
        "print(name44)"
      ]
    },
    {
      "cell_type": "code",
      "execution_count": null,
      "metadata": {
        "colab": {
          "base_uri": "https://localhost:8080/"
        },
        "id": "UxM4dxeRarkW",
        "outputId": "892e4851-77f2-43dc-eb2a-914ee20563c7"
      },
      "outputs": [
        {
          "name": "stdout",
          "output_type": "stream",
          "text": [
            "How old are you? 23\n"
          ]
        }
      ],
      "source": [
        "age = input(\"How old are you? \")\n",
        "\n",
        "\n",
        "\n",
        "\n",
        "\n",
        "\n",
        "\n",
        "\n"
      ]
    },
    {
      "cell_type": "code",
      "execution_count": null,
      "metadata": {
        "colab": {
          "base_uri": "https://localhost:8080/"
        },
        "id": "KxCRrora0yf2",
        "outputId": "53bf95fb-c23e-4d17-c68f-651bbf4bb9d8"
      },
      "outputs": [
        {
          "data": {
            "text/plain": [
              "str"
            ]
          },
          "execution_count": 11,
          "metadata": {},
          "output_type": "execute_result"
        }
      ],
      "source": [
        "type(name44)"
      ]
    },
    {
      "cell_type": "code",
      "execution_count": null,
      "metadata": {
        "colab": {
          "base_uri": "https://localhost:8080/"
        },
        "id": "NJSd2INAaJcD",
        "outputId": "0c7d8a61-aecb-426e-e830-79a873d15329"
      },
      "outputs": [
        {
          "data": {
            "text/plain": [
              "str"
            ]
          },
          "execution_count": 12,
          "metadata": {},
          "output_type": "execute_result"
        }
      ],
      "source": [
        "type(age)"
      ]
    },
    {
      "cell_type": "code",
      "execution_count": null,
      "metadata": {
        "colab": {
          "base_uri": "https://localhost:8080/",
          "height": 141
        },
        "id": "xtZnqibJ6eYl",
        "outputId": "7f5a8920-b09a-4b2c-c616-bae6f34db149"
      },
      "outputs": [
        {
          "ename": "TypeError",
          "evalue": "can only concatenate str (not \"int\") to str",
          "output_type": "error",
          "traceback": [
            "\u001b[0;31m---------------------------------------------------------------------------\u001b[0m",
            "\u001b[0;31mTypeError\u001b[0m                                 Traceback (most recent call last)",
            "\u001b[0;32m<ipython-input-13-61640b4cb67b>\u001b[0m in \u001b[0;36m<cell line: 1>\u001b[0;34m()\u001b[0m\n\u001b[0;32m----> 1\u001b[0;31m \u001b[0mage\u001b[0m\u001b[0;34m+\u001b[0m\u001b[0;36m4\u001b[0m\u001b[0;34m\u001b[0m\u001b[0;34m\u001b[0m\u001b[0m\n\u001b[0m",
            "\u001b[0;31mTypeError\u001b[0m: can only concatenate str (not \"int\") to str"
          ]
        }
      ],
      "source": [
        "age+4"
      ]
    },
    {
      "cell_type": "code",
      "execution_count": null,
      "metadata": {
        "colab": {
          "base_uri": "https://localhost:8080/"
        },
        "id": "bv6yMcejcUMh",
        "outputId": "cdaa7bb7-1770-413e-e082-7de449a4e676"
      },
      "outputs": [
        {
          "data": {
            "text/plain": [
              "27"
            ]
          },
          "execution_count": 14,
          "metadata": {},
          "output_type": "execute_result"
        }
      ],
      "source": [
        "int(age)+4  #if you entered '37' before for age, what do you think this command will output?\n",
        "\n",
        "# age is the string '38'\n",
        "# '38'+4\n",
        "\n",
        "#'38' + '4'. -> 384\n",
        "\n",
        "# int(38) + 4 -> 42\n",
        "\n",
        "\n",
        "\n",
        "\n",
        "\n",
        "\n",
        "\n",
        "\n",
        "\n",
        "\n"
      ]
    },
    {
      "cell_type": "code",
      "execution_count": null,
      "metadata": {
        "colab": {
          "base_uri": "https://localhost:8080/"
        },
        "id": "r9iGJNc7bFU5",
        "outputId": "b45dc97c-4569-4456-c3e9-7595fd3198e2"
      },
      "outputs": [
        {
          "data": {
            "text/plain": [
              "str"
            ]
          },
          "execution_count": 15,
          "metadata": {},
          "output_type": "execute_result"
        }
      ],
      "source": [
        "type(age)"
      ]
    },
    {
      "cell_type": "code",
      "execution_count": null,
      "metadata": {
        "id": "V3ndFxX66wY5"
      },
      "outputs": [],
      "source": [
        "#age = int(age)"
      ]
    },
    {
      "cell_type": "code",
      "execution_count": null,
      "metadata": {
        "colab": {
          "base_uri": "https://localhost:8080/",
          "height": 141
        },
        "id": "yrbzf7vAZtwB",
        "outputId": "946e1eaa-01db-4238-e279-3c9ae8443bd2"
      },
      "outputs": [
        {
          "ename": "ValueError",
          "evalue": "invalid literal for int() with base 10: 'Anthony Edwards'",
          "output_type": "error",
          "traceback": [
            "\u001b[0;31m---------------------------------------------------------------------------\u001b[0m",
            "\u001b[0;31mValueError\u001b[0m                                Traceback (most recent call last)",
            "\u001b[0;32m<ipython-input-16-a18ade95acf4>\u001b[0m in \u001b[0;36m<cell line: 1>\u001b[0;34m()\u001b[0m\n\u001b[0;32m----> 1\u001b[0;31m \u001b[0mint\u001b[0m\u001b[0;34m(\u001b[0m\u001b[0mname44\u001b[0m\u001b[0;34m)\u001b[0m\u001b[0;34m\u001b[0m\u001b[0;34m\u001b[0m\u001b[0m\n\u001b[0m",
            "\u001b[0;31mValueError\u001b[0m: invalid literal for int() with base 10: 'Anthony Edwards'"
          ]
        }
      ],
      "source": [
        "int(name44)"
      ]
    },
    {
      "cell_type": "code",
      "execution_count": null,
      "metadata": {
        "colab": {
          "base_uri": "https://localhost:8080/"
        },
        "id": "XfPDY0gWa2GO",
        "outputId": "bd6afa4e-a371-42a4-f37d-220d2dc7b471"
      },
      "outputs": [
        {
          "data": {
            "text/plain": [
              "27"
            ]
          },
          "execution_count": 17,
          "metadata": {},
          "output_type": "execute_result"
        }
      ],
      "source": [
        "age2 = int(age)    #what is this command doing?\n",
        "age2+4          #now what do you expect the output of this command to be?\n",
        "\n",
        "\n",
        "\n",
        "\n",
        "\n",
        "\n",
        "\n",
        "\n",
        "\n",
        "\n",
        "\n",
        "\n"
      ]
    },
    {
      "cell_type": "code",
      "execution_count": null,
      "metadata": {
        "id": "m8rfvKWsaFmX"
      },
      "outputs": [],
      "source": [
        "age3 = int(input(\"How old are you?\"))"
      ]
    },
    {
      "cell_type": "code",
      "execution_count": null,
      "metadata": {
        "id": "ExqqigoAadi0"
      },
      "outputs": [],
      "source": [
        "age3+4"
      ]
    },
    {
      "cell_type": "code",
      "execution_count": null,
      "metadata": {
        "id": "AB1n9HNRc65_"
      },
      "outputs": [],
      "source": [
        "age = int(input(\"How old are you? \")) # what if a child is answer 8.5\n",
        "age+4          #now what do you expect the output of this command to be?\n",
        "\n",
        "\n",
        "\n",
        "\n",
        "\n",
        "\n",
        "\n",
        "\n",
        "\n",
        "\n",
        "\n",
        "\n"
      ]
    },
    {
      "cell_type": "code",
      "execution_count": null,
      "metadata": {
        "id": "-yhSATandO-n"
      },
      "outputs": [],
      "source": [
        "age = input(\"How old are you? \") # what if a child is answer 8.5\n",
        "age=float(age)   #what is this command doing?\n",
        "age+4          #now what do you expect the output of this command to be?\n",
        "\n",
        "\n",
        "\n",
        "\n",
        "\n",
        "\n",
        "\n",
        "\n",
        "\n",
        "\n",
        "\n",
        "\n",
        "\n",
        "\n"
      ]
    },
    {
      "cell_type": "code",
      "execution_count": null,
      "metadata": {
        "id": "qS7-npye5G7c"
      },
      "outputs": [],
      "source": [
        "float(input(\"enter a number\"))"
      ]
    },
    {
      "cell_type": "markdown",
      "metadata": {
        "id": "BjJZbWjyaEos"
      },
      "source": [
        "Reflection question: Order `str`, `int` and `float` from most restrictive to least restrictive.\n",
        "\n",
        "Reflection question: why not use `float()` instead of `int()` all the time?\n",
        "\n",
        "If you need more practice on what a string is, and how you can manipulate it, work through the exercises here: https://www.w3schools.com/python/python_strings.asp"
      ]
    },
    {
      "cell_type": "markdown",
      "metadata": {
        "id": "qmlcMTHCdpjk"
      },
      "source": [
        "\n",
        "##**Validation**\n",
        "Validation can be used to further constrain the user input so that it's useful later. Built-in string functions can be used in validation\n",
        "\n",
        "*   `isalnum()`\tReturns `True` if all characters in the string are alphanumeric\n",
        "*   `isalpha()`\tReturns `True` if all characters in the string are in the alphabet\n",
        "*   `isdecimal()`\tReturns `True` if all characters in the string are decimals\n",
        "*   `isdigit()`\tReturns `True` if all characters in the string are digits\n",
        "*   `isidentifier()`\tReturns `True` if the string `is an identifier\n",
        "*   `islower()`\tReturns `True` if all characters in the string are lower case\n",
        "*   `isnumeric()`\tReturns `True` if all characters in the string are numeric\n",
        "*   `isprintable()`\tReturns `True` if all characters in the string are printable\n",
        "*   `isspace()`\tReturns `True` if all characters in the string are whitespaces\n",
        "*   `istitle()`\tReturns `True` if the string follows the rules of a title\n",
        "*   `isupper()`\tReturns `True` if all characters in the string are upper case\n",
        "\n",
        "Lets look at an example of how to use `isalpha()` in combination with conditionals to ensure that user input is only alphabetical.\n"
      ]
    },
    {
      "cell_type": "code",
      "execution_count": null,
      "metadata": {
        "id": "Y5wXrzr5o_Vi"
      },
      "outputs": [],
      "source": [
        "#before running this code pause the video\n",
        "#use comments to annote the lines of the code\n",
        "#is the output what you expect?\n",
        "name = input(\"what is your name? \") #prompting user for input to assign to name variable\n",
        "if not name.isalpha():    #checks for non-alphabetical inputs\n",
        "  print(\"That's not a name I can use. Sorry.\") #non-alphabetical inputs will return this print statement\n",
        "else:   #if its all alphabetical\n",
        "  print(\"Hello \"+name+\"!\") #prints the hello, name string"
      ]
    },
    {
      "cell_type": "markdown",
      "metadata": {
        "id": "kgh_A9umqGif"
      },
      "source": [
        "Reflection: How can we get rid of the space between the name and the exclamation point in the printed output?"
      ]
    },
    {
      "cell_type": "markdown",
      "metadata": {
        "id": "U9AjSzM0qya2"
      },
      "source": [
        "Lets examine a more complicated example.\n",
        "\n",
        "```\n",
        "print(\"Gas Tank Refeuling light\")\n",
        "print(\"/\\\" * 10)  #what does this line do?\n",
        "\n",
        "GasLevel = input(\"What percent full is the gas tank?\")\n",
        "\n",
        "if GasLevel > 50:\n",
        "  print(\"We have enough gas\")\n",
        "\n",
        "elif GasLevel > 10:\n",
        "  print(\"We need to get more gas soon\")\n",
        "\n",
        "else:\n",
        "  print(\"Please stop at the very next gas station!\")\n",
        "```\n",
        "\n",
        "Do you know what should be printed if the user enters 55? or 45? or 10?\n",
        "\n",
        "This code will not run as written. Can you figure out why? Pause the video and take a few minutes to think it through. Use comments to annotate the code.\n",
        "\n",
        "Hint: Should the user enter % or not?\n",
        "\n",
        "If you still can't figure it out try running it below.\n",
        "\n"
      ]
    },
    {
      "cell_type": "code",
      "execution_count": 8,
      "metadata": {
        "id": "6kQLkuZqdTHJ"
      },
      "outputs": [
        {
          "name": "stdout",
          "output_type": "stream",
          "text": [
            "Gas Tank Refeuling light\n",
            "/\\/\\/\\/\\/\\/\\/\\/\\/\\/\\\n",
            "We have enough gas\n"
          ]
        }
      ],
      "source": [
        "print(\"Gas Tank Refeuling light\")\n",
        "print(\"/\\\\\" * 10)  #what does this line do?\n",
        "\n",
        "GasLevel = int(input(\"What percent full is the gas tank?\"))\n",
        "\n",
        "if GasLevel > 50:\n",
        "  print(\"We have enough gas\")\n",
        "\n",
        "elif GasLevel > 10:\n",
        "  print(\"We need to get more gas soon\")\n",
        "\n",
        "else:\n",
        "  print(\"Please stop at the very next gas station!\")"
      ]
    },
    {
      "cell_type": "code",
      "execution_count": null,
      "metadata": {
        "id": "LpRxT_RauOeo"
      },
      "outputs": [],
      "source": [
        "print(\"Gas Tank Refeuling light\")\n",
        "print(\"/\\\\\" * 10)  #what does this line do? #did it do what you predict\n",
        "\n",
        "GasLevel = input(\"What percent full is the gas tank? \")\n",
        "GasLevel = int(GasLevel)\n",
        "if GasLevel > 50:\n",
        "  print(\"We have enough gas\")\n",
        "\n",
        "elif GasLevel > 10:\n",
        "  print(\"We need to get more gas soon\")\n",
        "\n",
        "else:\n",
        "  print(\"Please stop at the very next gas station!\")"
      ]
    },
    {
      "cell_type": "markdown",
      "metadata": {
        "id": "ly32DlYwvKCY"
      },
      "source": [
        "We could use a nested `int(input())` command as previously disrupted but that would create an error and stop the program. What if we want to prompt the user to give a proper input?\n",
        "\n",
        "we can do that with a `while` loop using the `while True...break` pattern."
      ]
    },
    {
      "cell_type": "code",
      "execution_count": 10,
      "metadata": {
        "id": "hWNre4bIvwtA"
      },
      "outputs": [
        {
          "name": "stdout",
          "output_type": "stream",
          "text": [
            "Gas Tank Refeuling light\n",
            "/\\/\\/\\/\\/\\/\\/\\/\\/\\/\\\n",
            "that wasn't numeric, can you try again\n",
            "We have enough gas\n"
          ]
        }
      ],
      "source": [
        "print(\"Gas Tank Refeuling light\")\n",
        "print(\"/\\\\\" * 10)  #what does this line do? #did it do what you predict\n",
        "while True:\n",
        "  GasLevel = input(\"What percent full is the gas tank? (exclude the % sign)\")\n",
        "  if GasLevel.isnumeric():\n",
        "    GasLevelInteger= int(GasLevel)\n",
        "    break  #why is this necessary?\n",
        "  else:\n",
        "    print(\"that wasn't numeric, can you try again\")\n",
        "\n",
        "\n",
        "if GasLevelInteger > 50:\n",
        "  print(\"We have enough gas\")\n",
        "\n",
        "elif GasLevelInteger > 10:\n",
        "  print(\"We need to get more gas soon\")\n",
        "\n",
        "else:\n",
        "  print(\"Please stop at the very next gas station!\")"
      ]
    },
    {
      "cell_type": "code",
      "execution_count": null,
      "metadata": {
        "id": "mWMlF81P62H0"
      },
      "outputs": [],
      "source": [
        "print(\"/\\\\\" * 10)  #what does this line do? #did it do what you predict\n",
        "# /\\\\/\\\\/\\\\/\\\\/\\\\/\\\\"
      ]
    },
    {
      "cell_type": "code",
      "execution_count": null,
      "metadata": {
        "id": "4F3IxpDAgGB4"
      },
      "outputs": [],
      "source": [
        "print(\"test\\'\" * 10)"
      ]
    },
    {
      "cell_type": "code",
      "execution_count": null,
      "metadata": {
        "id": "CCPjhE2h8FEZ"
      },
      "outputs": [],
      "source": [
        "if type(age) == float:\n",
        "  print(\"true\")"
      ]
    }
  ],
  "metadata": {
    "colab": {
      "include_colab_link": true,
      "provenance": []
    },
    "kernelspec": {
      "display_name": "Python 3",
      "name": "python3"
    },
    "language_info": {
      "codemirror_mode": {
        "name": "ipython",
        "version": 3
      },
      "file_extension": ".py",
      "mimetype": "text/x-python",
      "name": "python",
      "nbconvert_exporter": "python",
      "pygments_lexer": "ipython3",
      "version": "3.11.4"
    }
  },
  "nbformat": 4,
  "nbformat_minor": 0
}
