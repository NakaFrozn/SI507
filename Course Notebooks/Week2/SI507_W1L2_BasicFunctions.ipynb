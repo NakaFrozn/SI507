{
  "nbformat": 4,
  "nbformat_minor": 0,
  "metadata": {
    "colab": {
      "provenance": []
    },
    "kernelspec": {
      "name": "python3",
      "display_name": "Python 3"
    }
  },
  "cells": [
    {
      "cell_type": "markdown",
      "metadata": {
        "id": "KaYbKjy4WKZ4"
      },
      "source": [
        "# **Welcome to SI 507 Week 1 Lesson 2: Basic Functions.**\n",
        "\n",
        "# https://tinyurl.com/y6mblg8s\n",
        "\n",
        "Why do programmers use functions?\n",
        "\n",
        "![picture](https://drive.google.com/uc?export=view&id=1ZpjDQOJy1sB3gjD2DqoadVN8ghWREfwn)\n",
        "\n",
        "Functions make your programs more **readable**, by hiding **complexity**. The **reusability** of functions lets you efficiently complete, repeated tasks.\n",
        "\n",
        "Functions fulfill the programming edict of 'Dont Repeat Yourself' (DRY).\n",
        "\n",
        "**DRY** code is preferable to **WET** (Write Every Time) code.\n",
        "\n",
        "Using functions prevents typo errors.\n",
        "\n",
        "Let's look at some examples to illustrate this concept.\n",
        "\n",
        "\n",
        "\n",
        "**Best Practice: before executing the code, pause the video and make a prediction about what you think will happen. Doing this will engage metacognition and let you make deeper insights**\n"
      ]
    },
    {
      "cell_type": "code",
      "metadata": {
        "id": "7Q40oN1U6aD2"
      },
      "source": [
        "## Before hitting run make a prediction about the output!\n",
        "SalesPeople = {\n",
        "    '1001': {'last_name': 'C', 'first_name': 'Alan', 'uniqname': 'AlanC'},\n",
        "    '1002': {'last_name': 'R', 'first_name': 'Keisha', 'uniqname': 'RKeisha'},\n",
        "    '1003': {'last_name': 'W', 'first_name': 'Tanya', 'uniqname': 'WTanya'},\n",
        "    '1004': {'last_name': 'D', 'first_name': 'Henry', 'uniqname': 'DHenry'}\n",
        "}\n",
        "sales = {\n",
        "    '1001': [190, 188, 175, 195],\n",
        "    '1002': [192, 199, 288, 140],\n",
        "    '1003': [195, 188, 182, 110],\n",
        "    '1004': [99, 292, 94, 298]\n",
        "}\n",
        "\n",
        "'''\n",
        "many lines in between\n",
        "'''\n",
        "\n",
        "max = 0\n",
        "max_id = -1\n",
        "for id in sales:\n",
        "    sum = 0\n",
        "    num_sales = 0\n",
        "    for s in sales[id]:\n",
        "        sum = sum + s\n",
        "        num_sales += 1\n",
        "    avg = sum/num_sales\n",
        "    if avg > max:\n",
        "        max = avg\n",
        "        max_id = id\n",
        "print(SalesPeople[max_id])"
      ],
      "execution_count": null,
      "outputs": []
    },
    {
      "cell_type": "markdown",
      "metadata": {
        "id": "dTMxhfHX76nI"
      },
      "source": [
        ":You can figure out the above code with some careful attention. But, its not hard to imagine that if it was many lines longer you wouldn't be able to tell what it is.\n",
        "\n",
        "Now imagine instead there was just the following two lines:\n",
        "```\n",
        "top_salesperson = find_salesperson_with_highest_weekly_sales_average(SalesPeople, sales)\n",
        "print(top_salesperson)\n",
        "```\n",
        "\n",
        "that's much more interpretable, but does it run?\n",
        "\n",
        "Only if this accompanies it:\n",
        "```\n",
        "def find_salesperson_with_highest_weekly_sales_average(SalesPeople, sales):\n",
        "  max = 0\n",
        "  max_id = -1\n",
        "  for id in sales:\n",
        "    sum = 0\n",
        "    num_sales = 0\n",
        "    for s in sales[id]:\n",
        "        sum = sum + s\n",
        "        num_sales += 1\n",
        "    avg = sum/num_sales\n",
        "    if avg > max:\n",
        "        max = avg\n",
        "        max_id = id\n",
        "  return SalesPeople[max_id]\n",
        "\n",
        "```\n",
        "The complexity isn't erased - its just hidden.\n",
        "\n"
      ]
    },
    {
      "cell_type": "markdown",
      "metadata": {
        "id": "pCK4EDNl9lJn"
      },
      "source": [
        "When you use multiple functions in a short space, the readability becomes much much better than compared to WET code.\n",
        "\n",
        "```\n",
        "top_salesperson = find_salesperson_with_highest_weekly_sales_average(SalesPeople, sales)\n",
        "send_email(top_salesperson['uniqname'] + '@widgets4sale.com', \"Great Job!\")\n",
        "```"
      ]
    },
    {
      "cell_type": "markdown",
      "metadata": {
        "id": "BmtAgedV-sTX"
      },
      "source": [
        "##Reusability\n",
        "Run the code in the following cell. Make a prediction and look at the output"
      ]
    },
    {
      "cell_type": "code",
      "metadata": {
        "id": "Oe8w87Ij-3hM"
      },
      "source": [
        "SalesPeople = {\n",
        "    '1001': {'last_name': 'C', 'first_name': 'Alan', 'uniqname': 'AlanC'},\n",
        "    '1002': {'last_name': 'R', 'first_name': 'Keisha', 'uniqname': 'RKeisha'},\n",
        "    '1003': {'last_name': 'W', 'first_name': 'Tanya', 'uniqname': 'WTanya'},\n",
        "    '1004': {'last_name': 'D', 'first_name': 'Henry', 'uniqname': 'DHenry'}\n",
        "}\n",
        "sales = {\n",
        "    '1001': [190, 188, 175, 195],\n",
        "    '1002': [192, 199, 288, 140],\n",
        "    '1003': [195, 188, 182, 110],\n",
        "    '1004': [99, 292, 94, 298]\n",
        "}\n",
        "\n",
        "def find_salesperson_with_highest_average(SalesPeople, sales):\n",
        "    max = 0\n",
        "    max_id = -1\n",
        "    for id in sales:\n",
        "        sum = 0\n",
        "        num_sales = 0\n",
        "        for s in sales[id]:\n",
        "            sum += s\n",
        "            num_sales += 1\n",
        "        avg = sum/num_sales\n",
        "        if avg > max:\n",
        "            max = avg\n",
        "            max_id = id\n",
        "    return SalesPeople[max_id]\n",
        "\n",
        "def compute_final_sales(sales):\n",
        "    salesperson_sales = {}\n",
        "    for id in sales:\n",
        "        sum = 0\n",
        "        num_sales = 0\n",
        "        for s in sales[id]:\n",
        "            sum += s\n",
        "            num_sales += 1\n",
        "        salesperson_sales[id] = sum/num_sales\n",
        "    return salesperson_sales\n",
        "\n",
        "def print_final_sales(SalesPeople, final_sales):\n",
        "    for id in final_sales:\n",
        "        salesperson = SalesPeople[id]\n",
        "        print(salesperson['first_name'], salesperson['last_name'], 'has', final_sales[id])\n",
        "\n",
        "top_salesperson = find_salesperson_with_highest_average(SalesPeople, sales)\n",
        "print(\"The top salesperson is\", top_salesperson['first_name'], top_salesperson['last_name'])\n",
        "\n",
        "final_sales = compute_final_sales(sales)\n",
        "print_final_sales(SalesPeople, final_sales)"
      ],
      "execution_count": null,
      "outputs": []
    },
    {
      "cell_type": "markdown",
      "metadata": {
        "id": "Y9rudzTK__Z6"
      },
      "source": [
        "Now look at the code, you will see that it’s a completed version of the program we’ve been looking at so far, with two new functions `compute_final_sales()`  and `print_final_sales()`. Look at these and try to figure out what they do.\n",
        "\n",
        "\n",
        "This program can be simplified. There is some repeated code in it. Identify the repeated code and convert it into a function to make the program simpler. This may take a substantial amount of time pause the video and work on it. If you are stuck. Explain where you're stuck and post a comment in the piazza in the lecture channel. Myself or one of your peers will respond."
      ]
    },
    {
      "cell_type": "code",
      "metadata": {
        "id": "nGCRDPiIBA0W"
      },
      "source": [
        "### Refactored Code\n",
        "\n",
        "SalesPeople = {\n",
        "    '1001': {'last_name': 'C', 'first_name': 'Alan', 'uniqname': 'AlanC},\n",
        "    '1002': {'last_name': 'R', 'first_name': 'Keisha', 'uniqname': 'RKeisha'},\n",
        "    '1003': {'last_name': 'W', 'first_name': 'Tanya', 'uniqname': 'WTanya'},\n",
        "    '1004': {'last_name': 'D', 'first_name': 'Henry', 'uniqname': 'DHenry'}\n",
        "}\n",
        "sales = {\n",
        "    '1001': [190, 188, 175, 195],\n",
        "    '1002': [192, 199, 288, 140],\n",
        "    '1003': [195, 188, 182, 110],\n",
        "    '1004': [99, 292, 94, 298]\n",
        "}\n",
        "\n",
        "def compute_average(num_list):\n",
        "    sum = 0\n",
        "    num_items = 0\n",
        "    for n in num_list:\n",
        "        sum += n\n",
        "        num_items += 1\n",
        "    return sum/num_items\n",
        "\n",
        "def find_salesperson_with_highest_average(SalesPeople, sales):\n",
        "    max = 0\n",
        "    max_id = -1\n",
        "    for id in sales:\n",
        "        avg = compute_average(sales[id])\n",
        "        if avg > max:\n",
        "            max = avg\n",
        "            max_id = id\n",
        "    return SalesPeople[max_id]\n",
        "\n",
        "def compute_final_sales(sales):\n",
        "    salesperson_sales = {}\n",
        "    for id in sales:\n",
        "        salesperson_sales[id] = compute_average(sales[id])\n",
        "    return salesperson_sales\n",
        "\n",
        "def print_final_sales(SalesPeople, final_sales):\n",
        "    for id in final_sales:\n",
        "        salesperson = SalesPeople[id]\n",
        "        print(salesperson['first_name'], salesperson['last_name'], 'has', final_sales[id])\n",
        "\n",
        "top_salesperson = find_salesperson_with_highest_average(SalesPeople, sales)\n",
        "print(\"The top salesperson is\", top_salesperson['first_name'], top_salesperson['last_name'])\n",
        "\n",
        "final_sales = compute_final_sales(sales)\n",
        "print_final_sales(SalesPeople, final_sales)"
      ],
      "execution_count": null,
      "outputs": []
    },
    {
      "cell_type": "markdown",
      "metadata": {
        "id": "INoauKWXBaqs"
      },
      "source": [
        "**Refactoring** is *rewriting a program so that the structure of the code changes but the functionality does not.*"
      ]
    },
    {
      "cell_type": "markdown",
      "metadata": {
        "id": "Nqs2iGuW6Xys"
      },
      "source": [
        "### **Review Basics of Functions**\n",
        "![picture](https://drive.google.com/uc?export=view&id=1pfA5WOqR-wFUCqXCFNI4zsoFdnJq_XQs)\n"
      ]
    },
    {
      "cell_type": "markdown",
      "metadata": {
        "id": "2k9dKYomGNbM"
      },
      "source": [
        "**The syntax of a function**\n",
        "\n",
        "```\n",
        "def function_name(argument1, argument2):\n",
        "  \"\"\"docstring\n",
        "     docstring \"\"\"\n",
        "  indented statement\n",
        "  indented statement\n",
        "  return value\n",
        "```\n",
        "*  `def` is: keyword\n",
        "*  `function_name` is: function name\n",
        "*  `argument1` & `argument2` are the arguments and they are *positional*\n",
        "*  `       `indentation defines the body of the function that is executed whenever the function is called\n",
        "*  `\"\"\"docstring\"\"\"` is an explanation of what the function does. It has a specified syntax which we will discuss in depth!\n",
        "*  `value` is the data that the `return` keyword sends back to the program when a function is called.\n",
        "\n"
      ]
    },
    {
      "cell_type": "markdown",
      "metadata": {
        "id": "jHpjjHGNJbPX"
      },
      "source": [
        "**Scope**\n",
        "\n",
        "All variables in a program may not be accessible at all locations in that program. This depends on where you have declared a variable.\n",
        "The **scope** of a variable determines the portion of the program where you can access a particular identifier.\n",
        "\n",
        "There are two basic scopes of variables in Python:\n",
        "*  Global variables\n",
        "*  Local variables\n",
        "\n",
        "*Global vs. Local variables*\n",
        "Variables that are defined inside a function body have a local scope, and those defined outside have a global scope.\n",
        "This means that local variables can be accessed only inside the function in which they are declared whereas global variables can be accessed throughout the program body by all functions. When you call a function, the variables declared inside it are brought into scope.\n",
        "\n",
        "Test your understanding by working through the following examples."
      ]
    },
    {
      "cell_type": "code",
      "metadata": {
        "id": "0dAybaqTQ32b"
      },
      "source": [
        "var1 = 66 # global scope\n",
        "def func1():\n",
        "    print(\"inside function\", var1) # global name is valid inside the function\n",
        "print(\"now\")\n",
        "func1()\n",
        "print(\"outside function\", var1) # global name is valid outside the function"
      ],
      "execution_count": null,
      "outputs": []
    },
    {
      "cell_type": "code",
      "metadata": {
        "id": "h6qONb8naReL"
      },
      "source": [
        "### Test your knowledge: Global vs Local\n",
        "var2 = 77 # global scope\n",
        "def func2():\n",
        "    var2 = 88 # local name overrides global\n",
        "\n",
        "    print(\"inside function\", var2)\n",
        "func2()  # What do you think will print here, 88 or 77?\n",
        "print(\"outside function\", var2) # What do you think will print here, 88 or 77?"
      ],
      "execution_count": null,
      "outputs": []
    },
    {
      "cell_type": "code",
      "metadata": {
        "id": "UxM4dxeRarkW"
      },
      "source": [
        "#Test your knowledge Global vs Local\n",
        "def func3():\n",
        "    var3 = 99 # local name overrides global\n",
        "    return var3\n",
        "var3 = func3() #what do you think prints here?\n",
        "print(\"outside function\", var3) #what do you think prints here?"
      ],
      "execution_count": null,
      "outputs": []
    },
    {
      "cell_type": "code",
      "metadata": {
        "id": "bv6yMcejcUMh"
      },
      "source": [
        "def func4(param1):\n",
        "    print(\"inside function A\", param1)\n",
        "    param1 = 222\n",
        "    print(\"inside function B\", param1)\n",
        "var4  = 111\n",
        "func4(var4)  ### two print statements are called here. What values will print?\n",
        "print(\"outside function\", var4) # What value is going to print here?"
      ],
      "execution_count": null,
      "outputs": []
    },
    {
      "cell_type": "code",
      "source": [
        "print(param1)"
      ],
      "metadata": {
        "id": "L_kw-6VGJUfz"
      },
      "execution_count": null,
      "outputs": []
    },
    {
      "cell_type": "code",
      "metadata": {
        "id": "XfPDY0gWa2GO"
      },
      "source": [
        "####\n",
        "####\n",
        "####\n",
        "def func5(var5):\n",
        "    print(\"inside function A\", var5)\n",
        "    var5 = 222\n",
        "    print(\"inside function B\", var5) #### what will function B print?  isnt var5 a global variable?\n",
        "var5  = 111\n",
        "func5(var5)\n",
        "print(\"outside function\", var5)  ### what will this line print? isn't var 5 a global variable?\n",
        "\n",
        "\n"
      ],
      "execution_count": null,
      "outputs": []
    },
    {
      "cell_type": "code",
      "metadata": {
        "id": "AB1n9HNRc65_"
      },
      "source": [
        "def func6(var6):\n",
        "    var6 += \" world\"\n",
        "    print(var6, \"from func6\")\n",
        "var6  = \"hello\"\n",
        "func6(var6)   #what do you expect to print here?\n",
        "print(var6, \"from indent level 0\")   #What do you expect to print here?"
      ],
      "execution_count": null,
      "outputs": []
    },
    {
      "cell_type": "markdown",
      "metadata": {
        "id": "LxMolD_qOyjb"
      },
      "source": [
        "# **Mutability**\n",
        "\n",
        "Most data types in python are mutable.\n",
        "\n",
        "Numbers, booleans, strings and tuples are immutable"
      ]
    },
    {
      "cell_type": "code",
      "metadata": {
        "id": "GQI9fQPhOyK1"
      },
      "source": [
        "### This example works intuitively\n",
        "string1 = \"I am a string\"\n",
        "print(string1[3]) #m\n",
        "tuple1 = (1, 2, 3)\n",
        "print(tuple1[2]) #3\n",
        "List1 = ['hat', 4, 3.2626]\n",
        "print(List1[-1]) #3.2626"
      ],
      "execution_count": null,
      "outputs": []
    },
    {
      "cell_type": "code",
      "metadata": {
        "id": "Zb0jxanePp7z"
      },
      "source": [
        "####\n",
        "#### Two of the not work....Why not?\n",
        "####\n",
        "\n",
        "string1 = \"I am a string\"\n",
        "#string1[3] = \"n\"\n",
        "print(string1[3])\n",
        "\n",
        "tuple1 = (1, 2, 3)\n",
        "#tuple1[2] = 4\n",
        "print(tuple1[2])\n",
        "\n",
        "List1 = ['hat', 4, 3.2626]\n",
        "List1[-1] = 'temecula'\n",
        "print(List1[-1])\n"
      ],
      "execution_count": null,
      "outputs": []
    },
    {
      "cell_type": "markdown",
      "metadata": {
        "id": "FmO3QD-sP9Sf"
      },
      "source": [
        "Lists are mutable, tuples and strings which are handled verys similarly - are not.\n",
        "\n",
        "String.functions therefore return *new* strings."
      ]
    },
    {
      "cell_type": "code",
      "metadata": {
        "id": "BzX-mDaHPssh"
      },
      "source": [
        "s1 = \"hello\"\n",
        "s1.upper()\n",
        "print(\"s1 is\", s1)\n",
        "s2 = s1.upper()\n",
        "print(s1, s2)"
      ],
      "execution_count": null,
      "outputs": []
    },
    {
      "cell_type": "markdown",
      "metadata": {
        "id": "SrJXmemIRg-_"
      },
      "source": [
        "The mutability of variables has important consequences for what happens to arguments during functions. Let's look at some simple examples."
      ]
    },
    {
      "cell_type": "code",
      "metadata": {
        "id": "C1CRYiLnR6nW"
      },
      "source": [
        "x = 5\n",
        "y = x\n",
        "print(x) # prints ?\n",
        "print(y) # prints ?"
      ],
      "execution_count": null,
      "outputs": []
    },
    {
      "cell_type": "code",
      "metadata": {
        "id": "rNziAyOtR-4Z"
      },
      "source": [
        "x = 6\n",
        "print(x) # prints 6\n",
        "print(y) # does this print 5 or 6?"
      ],
      "execution_count": null,
      "outputs": []
    },
    {
      "cell_type": "markdown",
      "metadata": {
        "id": "gUf1GVELSEof"
      },
      "source": [
        "Now lets do it with strings"
      ]
    },
    {
      "cell_type": "code",
      "metadata": {
        "id": "GegK9zRpSGN3"
      },
      "source": [
        "s = \"hello\"\n",
        "s2 = s\n",
        "#print(s) # prints \"hello\"\n",
        "#print(s2) # prints \"hello\"\n",
        "s = \"world\"\n",
        "print(s) # prints \"world\"\n",
        "print(s2) # prints hello or world?\n"
      ],
      "execution_count": null,
      "outputs": []
    },
    {
      "cell_type": "markdown",
      "metadata": {
        "id": "zCTn5DurSUNU"
      },
      "source": [
        "Even mutable types will have this predictable behavior -- if you don't 'mutate' them."
      ]
    },
    {
      "cell_type": "code",
      "metadata": {
        "id": "OMfDxVl9ST49"
      },
      "source": [
        "a = [1, 2, 3]\n",
        "b = a\n",
        "#print(a) # prints \"[1, 2, 3]\"\n",
        "#print(b) # prints \"[1, 2, 3]\"\n",
        "a = [4, 5, 6]\n",
        "print(a) # prints \"[4, 5, 6]\"\n",
        "print(b) # prints ?"
      ],
      "execution_count": null,
      "outputs": []
    },
    {
      "cell_type": "markdown",
      "metadata": {
        "id": "n1aqfAiISpI9"
      },
      "source": [
        "But things can get mutated!"
      ]
    },
    {
      "cell_type": "code",
      "metadata": {
        "id": "obQ4d-59Sscq"
      },
      "source": [
        "#### this example is not intuitive -- pay attention.\n",
        "\n",
        "a = [1, 2, 3]\n",
        "b = a\n",
        "#print(a) # prints \"[1, 2, 3]\"\n",
        "#print(b) # prints \"[1, 2, 3]\"\n",
        "a.append(4)\n",
        "\n",
        "print(a) # what will print?\n",
        "print(b) # what will print?\n",
        "\n",
        "b.append(5)\n",
        "print(a) # prints \"[1, 2, 3, 4, 5]\"\n",
        "print(b) # prints \"[1, 2, 3, 4, 5]\"\n",
        "\n",
        "print()\n",
        "print()\n",
        "a = [4, 5, 6]\n",
        "a.append(7)\n",
        "print(a) # prints \"[4, 5, 6]\"\n",
        "print(b) # prints \"[1, 2, 3, 4, 5]\"\n"
      ],
      "execution_count": null,
      "outputs": []
    },
    {
      "cell_type": "markdown",
      "metadata": {
        "id": "WZqG24-sTSpi"
      },
      "source": [
        "So lets finally look at this phenomenon in the context of functions."
      ]
    },
    {
      "cell_type": "code",
      "metadata": {
        "id": "3chAXO1-TRvH"
      },
      "source": [
        "def change_it(the_list):\n",
        "    the_list = [1,2,3]\n",
        "    the_list.append('d')\n",
        "    print(\"the list \", the_list)\n",
        "\n",
        "g_list = [1,2,3]\n",
        "b_list = [1,2,3]\n",
        "change_it(g_list) # [1,2,3,d]\n",
        "print(\"g_list is\", g_list) # prints \"[1,2,3]\"\n",
        "\n",
        "g_list.append(6)\n",
        "print(g_list, b_list) #[1,2,3,6], [1,2,3]\n"
      ],
      "execution_count": null,
      "outputs": []
    },
    {
      "cell_type": "code",
      "source": [
        "list1 = [2,4,6]\n",
        "list1.append(5)"
      ],
      "metadata": {
        "id": "Mp46YirLsmJk"
      },
      "execution_count": null,
      "outputs": []
    },
    {
      "cell_type": "code",
      "source": [
        "list1"
      ],
      "metadata": {
        "id": "i4NsO4DvNBK5"
      },
      "execution_count": null,
      "outputs": []
    },
    {
      "cell_type": "code",
      "metadata": {
        "id": "8nW9TZRNUUBT"
      },
      "source": [
        "\n",
        "def change_it(the_list):\n",
        "    the_list = [1,2,3]\n",
        "    the_list.append('d')\n",
        "    print(\"the list \", the_list)\n",
        "g_list = [1,2,3]\n",
        "change_it(g_list) # [1,2,3,d]\n",
        "print(\"g_list is\", g_list) # prints \"[1,2,3]\"\n",
        "\n",
        "\n",
        "def change_it(the_list):\n",
        "    the_list = {'a':1,'b':2,'c':3}\n",
        "    the_list['d']='d'\n",
        "    print(\"the list \", the_list)\n",
        "g_list = {'a':1,'b':2,'c':3}\n",
        "change_it(g_list) # [1,2,3,d]\n",
        "print(\"g_list is\", g_list) # prints \"[1,2,3]\"\n",
        "print()\n",
        "print()\n",
        "\n",
        "\n",
        "def dict_update(local_dict):\n",
        "    local_dict['g'] = 'grapefruit'\n",
        "    local_dict['n'] = 'nectarine'\n",
        "\n",
        "global_dict = {'g': 'grape', 'p': 'plum', 'o': 'orange'}\n",
        "dict_update(global_dict)\n",
        "print(global_dict['g']) #grape\n",
        "print(global_dict['n']) #error\n",
        "print(global_dict['p']) # plum\n"
      ],
      "execution_count": null,
      "outputs": []
    },
    {
      "cell_type": "markdown",
      "metadata": {
        "id": "gj4oOqCvUpQ1"
      },
      "source": [
        "This happens because `the_list` and `local_dict` are pointers to their global counterparts - not full copies!"
      ]
    },
    {
      "cell_type": "code",
      "source": [
        "def dict_update(local_dict):\n",
        "    #local_dict = {'g': 'grape', 'p': 'plum', 'o': 'orange'}\n",
        "    local_dict['g'] = 'grapefruit'\n",
        "    local_dict['n'] = 'nectarine'\n",
        "\n",
        "global_dict = {'g': 'grape', 'p': 'plum', 'o': 'orange'}\n",
        "dict_update(global_dict)\n",
        "print(global_dict['g']) #grape\n",
        "print(global_dict['n']) #error\n",
        "print(global_dict['p']) # plum"
      ],
      "metadata": {
        "id": "ckJoBLUWKjsD"
      },
      "execution_count": null,
      "outputs": []
    },
    {
      "cell_type": "code",
      "metadata": {
        "id": "W-zKMZDUUow1"
      },
      "source": [
        "\n",
        "def list_remind(message, data):\n",
        "    print('2', message, data[-1])\n",
        "    message = \"don't forget!\"\n",
        "    data.append('eggs')\n",
        "    print('3', message, data[-1])\n",
        "\n",
        "groceries = ['milk', 'bread']\n",
        "reminder = 'please pick up'\n",
        "print('1', reminder, groceries[-1]) # What prints here.  1 please pick up bread\n",
        "\n",
        "list_remind(reminder, groceries) # What prints here 2 please pick up bread\n",
        "\n",
        "# 3 dont forget eggs\n",
        "\n",
        "print('4', reminder, groceries[-1]) # What prints here 4 please pick up eggs"
      ],
      "execution_count": null,
      "outputs": []
    },
    {
      "cell_type": "code",
      "source": [
        "def change_it(the_list):\n",
        "    the_list = [1,2,3]\n",
        "    the_list.append('d')\n",
        "    print(\"the list \", the_list)\n",
        "\n",
        "g_list = [1,2,3]\n",
        "change_it(g_list) # the list 1,2,3,d\n",
        "print(\"g_list is\", g_list) # g list is 1, 2, 3\n",
        "g_list.append(6)\n",
        "print(g_list) # 1,2,3,6\n"
      ],
      "metadata": {
        "id": "2YfgyYisPD0R"
      },
      "execution_count": null,
      "outputs": []
    },
    {
      "cell_type": "code",
      "source": [
        "dictionary_test = [{}]*2"
      ],
      "metadata": {
        "id": "GwxyV2kSQIiE"
      },
      "execution_count": null,
      "outputs": []
    },
    {
      "cell_type": "code",
      "source": [
        "dictionary_test"
      ],
      "metadata": {
        "id": "7jz2EipyQSWF"
      },
      "execution_count": null,
      "outputs": []
    },
    {
      "cell_type": "code",
      "source": [
        "dictionary_test[0]['key1']=43"
      ],
      "metadata": {
        "id": "sCVZVDZ5QUCX"
      },
      "execution_count": null,
      "outputs": []
    },
    {
      "cell_type": "code",
      "source": [
        "dictionary_test[0]"
      ],
      "metadata": {
        "id": "gDsrpxeHMRRJ"
      },
      "execution_count": null,
      "outputs": []
    },
    {
      "cell_type": "code",
      "source": [
        "dictionary_test[1] #"
      ],
      "metadata": {
        "id": "d27n5c8sMHHm"
      },
      "execution_count": null,
      "outputs": []
    },
    {
      "cell_type": "code",
      "source": [
        "dictionary_test[1]['key1']=231"
      ],
      "metadata": {
        "id": "mFn5n9p-QbqQ"
      },
      "execution_count": null,
      "outputs": []
    },
    {
      "cell_type": "code",
      "source": [
        "dictionary_test"
      ],
      "metadata": {
        "id": "-ay71oIiQiRE"
      },
      "execution_count": null,
      "outputs": []
    }
  ]
}