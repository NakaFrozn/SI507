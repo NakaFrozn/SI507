{
 "cells": [
  {
   "cell_type": "markdown",
   "id": "78ea0719-8384-4a25-8036-a89ed891ad1f",
   "metadata": {
    "tags": []
   },
   "source": [
    "## LeetCode questions on DFS continued:"
   ]
  },
  {
   "cell_type": "code",
   "execution_count": 1,
   "id": "68f3d96c-be2f-4382-945c-2781741b32bb",
   "metadata": {
    "tags": []
   },
   "outputs": [
    {
     "data": {
      "text/html": [
       "<img src=\"https://cdn.hashnode.com/res/hashnode/image/upload/v1635669018706/r9oWsk0vX.png?auto=compress,format&format=webp\"/>"
      ],
      "text/plain": [
       "<IPython.core.display.Image object>"
      ]
     },
     "execution_count": 1,
     "metadata": {},
     "output_type": "execute_result"
    }
   ],
   "source": [
    "from IPython.display import Image\n",
    "from IPython.core.display import HTML \n",
    "Image(url = \"https://cdn.hashnode.com/res/hashnode/image/upload/v1635669018706/r9oWsk0vX.png?auto=compress,format&format=webp\")"
   ]
  },
  {
   "cell_type": "markdown",
   "id": "35035122-1c8e-4ab4-9822-a070ab381818",
   "metadata": {
    "tags": []
   },
   "source": [
    "Question 1:\n",
    "\n",
    "Problem: Given the root node of a binary tree root, return the number of nodes in the tree."
   ]
  },
  {
   "cell_type": "code",
   "execution_count": 2,
   "id": "b498641f-7181-4e5b-b9b4-d9bc328090af",
   "metadata": {},
   "outputs": [],
   "source": [
    "def NumNodes(root):\n",
    "    \n",
    "    if root is None:\n",
    "        return 0\n",
    "    return 1 + NumNodes(root.left) + NumNodes(root.right)"
   ]
  },
  {
   "cell_type": "markdown",
   "id": "3cf6b29d-7271-427b-a81f-d00231627e61",
   "metadata": {},
   "source": [
    "Question 2:\n",
    "\n",
    "Given the root node of a binary tree root, turn the tree into its mirror image. This is also called \"inverting\" the tree.\n",
    "\n",
    "You should modify the tree in-place, and should not return anything."
   ]
  },
  {
   "cell_type": "code",
   "execution_count": 3,
   "id": "189880eb-1d78-4569-80e4-0bf9ca6fd7e4",
   "metadata": {},
   "outputs": [],
   "source": [
    "def MirrorTree(root):\n",
    "    \n",
    "    if root is None:\n",
    "        return\n",
    "    root.left, root.right = root.right, root.left\n",
    "    MirrorTree(root.left)\n",
    "    MirrorTree(root.right)\n",
    "    "
   ]
  },
  {
   "cell_type": "markdown",
   "id": "256c0776-3e73-4cbe-8746-a451153969ea",
   "metadata": {},
   "source": [
    "Question 3:\n",
    "    \n",
    "Given 2 root nodes of binary trees p and q, return whether the trees are equal.\n",
    "\n"
   ]
  },
  {
   "cell_type": "code",
   "execution_count": 4,
   "id": "e1f5b4f2-c7d1-45ec-ba18-a3be3249d2dc",
   "metadata": {},
   "outputs": [],
   "source": [
    "def treeequal(p, q):\n",
    "    \n",
    "    if not p and not q:\n",
    "        return True\n",
    "    if not p or not q:\n",
    "        return False\n",
    "        \n",
    "    return p.val == q.val and treeequal(p.left, q.left) and treeequal(p.right, q.right) "
   ]
  },
  {
   "cell_type": "markdown",
   "id": "7421124b-5c75-4076-90a3-145d9ca7dd0a",
   "metadata": {},
   "source": [
    "Question 4:\n",
    "\n",
    "Given the root node of a tree root, clone the tree, and return the root node of the cloned tree.\n",
    "\n",
    "A \"cloned tree\" is defined as an exact copy of the original tree. When you modify the cloned tree, it should have no effect on the original tree. This means that you can't simply return the original root node as the solution to the problem.\n",
    "\n"
   ]
  },
  {
   "cell_type": "code",
   "execution_count": null,
   "id": "594c48bb-2c75-45d9-b58d-a47b97c92c81",
   "metadata": {},
   "outputs": [],
   "source": [
    "class TreeNode:\n",
    "    def __init__(self, value):\n",
    "        self.value = value\n",
    "        self.left_child = None\n",
    "        self.right_child = None"
   ]
  },
  {
   "cell_type": "code",
   "execution_count": 5,
   "id": "1021852d-3988-4034-8204-6d8036a2919f",
   "metadata": {},
   "outputs": [],
   "source": [
    "def clonetree(root):\n",
    "    pass\n",
    "    "
   ]
  },
  {
   "cell_type": "markdown",
   "id": "a0b4c963-cb7a-41a9-949a-0b1ae280e415",
   "metadata": {},
   "source": [
    "Question 5: Tree contains Subtree\n",
    "\n",
    "Given two roots of binary trees root and subRoot, return whether the root tree contains the subRoot tree as a subtree.\n",
    "\n",
    "A \"subtree\" is defined as a node in the original tree, and all of its descendants.\n",
    "    \n"
   ]
  },
  {
   "cell_type": "code",
   "execution_count": 6,
   "id": "ccf2f01b-ce67-4af7-acb1-89d353bca4d8",
   "metadata": {
    "tags": []
   },
   "outputs": [],
   "source": [
    "def treeequal(p, q):\n",
    "    pass"
   ]
  },
  {
   "cell_type": "code",
   "execution_count": 8,
   "id": "0e71f08d-2af6-47de-8666-6698b7593c0d",
   "metadata": {},
   "outputs": [],
   "source": [
    "def containtree(tree, subtree):\n",
    "    pass"
   ]
  },
  {
   "cell_type": "markdown",
   "id": "29a73cb7-da7c-4d7c-b3f3-ff95b03aed15",
   "metadata": {},
   "source": [
    "Question 6:\n",
    "    \n",
    "Given the root node of a binary tree root, return the height of the tree.\n"
   ]
  },
  {
   "cell_type": "code",
   "execution_count": 9,
   "id": "92f9c6bf-47cd-42a1-86a9-67307e2d8f9d",
   "metadata": {},
   "outputs": [],
   "source": [
    "def heightTree(root):\n",
    "    pass"
   ]
  },
  {
   "cell_type": "markdown",
   "id": "7a9c8a1e-ab1c-496b-8b5c-7d8ffdccb391",
   "metadata": {},
   "source": [
    "Question 7:\n",
    "Given the root node of a binary tree, return the largest possible sum over any subtree.\n",
    "\n",
    "A \"subtree\" is defined as a node in the original tree, and of its descendants."
   ]
  },
  {
   "cell_type": "code",
   "execution_count": 10,
   "id": "4ea44270-cb15-441d-9236-68c47502f694",
   "metadata": {},
   "outputs": [],
   "source": [
    "def maxSubtreeSum(root):\n",
    "\n",
    "    pass"
   ]
  },
  {
   "cell_type": "markdown",
   "id": "8a461898-d491-476c-b44f-d90bd978b6b6",
   "metadata": {},
   "source": [
    "Question 8:\n",
    "\n",
    "Given the root node of a tree **root**, determine whether the tree is height-balanced.\n",
    "\n",
    "A tree is height balanced if for every node in the tree, the heights of its two children are within one of each other."
   ]
  },
  {
   "cell_type": "code",
   "execution_count": 11,
   "id": "d25403d1-abc8-4105-99a7-3e96011995b3",
   "metadata": {},
   "outputs": [],
   "source": [
    "def treebalanced(root):\n",
    "    pass"
   ]
  },
  {
   "cell_type": "markdown",
   "id": "b84261b6-28e1-4a69-9ac1-948d34f8acf7",
   "metadata": {},
   "source": [
    "Question 9:\n",
    "\n",
    "Given the node of a binary tree **root**, find the longest path between any two nodes in the tree, and return its length. This is called the \"diameter\" of the tree.\n",
    "\n",
    "The \"length\" of a path is defined as the total number of edges that the path contains."
   ]
  },
  {
   "cell_type": "code",
   "execution_count": 12,
   "id": "3ed9e4dd-ca57-4d1e-9006-7fb3217903d6",
   "metadata": {},
   "outputs": [],
   "source": [
    "def diameter(root):\n",
    "    pass"
   ]
  },
  {
   "cell_type": "markdown",
   "id": "1fc74521-8ef5-4547-81fb-d6db07666b98",
   "metadata": {},
   "source": [
    "Question 10:\n",
    "    \n",
    "Given the root node of a binary tree root, set every node's value to its depth*height. Do not return anything.\n",
    "\n",
    "The depth and height are both indexed at 1."
   ]
  },
  {
   "cell_type": "code",
   "execution_count": null,
   "id": "4450fdf4-ae40-4519-922d-735028e1ffff",
   "metadata": {},
   "outputs": [],
   "source": []
  },
  {
   "cell_type": "markdown",
   "id": "c8ab821d-eb01-4750-980a-2c7e693bdaca",
   "metadata": {},
   "source": [
    "Question 11:\n",
    "\n",
    "You are given the root node of a binary tree root. Set the value of each node in the tree equal to the largest sum from that node to a leaf node (the \"Maximum Node-to-Leaf Sum\").\n",
    "\n",
    "A \"leaf node\" is defined as a node with no children."
   ]
  },
  {
   "cell_type": "code",
   "execution_count": null,
   "id": "b9dc37e9-84f5-4f47-b1fc-bfafa9352708",
   "metadata": {},
   "outputs": [],
   "source": [
    "def maximumLeafSum(root):\n",
    "    pass"
   ]
  },
  {
   "cell_type": "markdown",
   "id": "bd5636ec-93b2-4969-ad1d-5ddf02845b18",
   "metadata": {},
   "source": [
    "Question 12:\n",
    "    \n",
    "You are given the **root** of a binary search tree (BST) and an integer val.\n",
    "\n",
    "Find the node in the BST that the node's value equals val and return the subtree rooted with that node. If such a node does not exist, return null."
   ]
  },
  {
   "cell_type": "code",
   "execution_count": null,
   "id": "43c0e261-b893-4896-9989-affff015c5f6",
   "metadata": {},
   "outputs": [],
   "source": []
  },
  {
   "cell_type": "markdown",
   "id": "1ce5cc7d-9b02-4767-8fe6-426734f08b99",
   "metadata": {},
   "source": [
    "Question 13:\n",
    "\n",
    "Inserting into a Binary Tree"
   ]
  },
  {
   "cell_type": "code",
   "execution_count": 11,
   "id": "cfde57ae-2338-4fa0-84cf-de9aac34f309",
   "metadata": {
    "tags": []
   },
   "outputs": [],
   "source": [
    "class BinarySearchTree:\n",
    "    def __init__(self, value):\n",
    "        self.value = value\n",
    "        self.left_child = None\n",
    "        self.right_child = None\n",
    "\n",
    "    def insert_node(self, value):\n",
    "        if value <= self.value and self.left_child:\n",
    "            self.left_child.insert_node(value)\n",
    "        elif value <= self.value:\n",
    "            self.left_child = BinarySearchTree(value)\n",
    "        elif value > self.value and self.right_child:\n",
    "            self.right_child.insert_node(value)\n",
    "        else:\n",
    "            self.right_child = BinarySearchTree(value)\n",
    "            \n",
    "    def find_node(self, value):\n",
    "        if value < self.value and self.left_child:\n",
    "            return self.left_child.find_node(value)\n",
    "        if value > self.value and self.right_child:\n",
    "            return self.right_child.find_node(value)\n",
    "\n",
    "        return value == self.value"
   ]
  },
  {
   "cell_type": "markdown",
   "id": "80f65b1b-595b-458d-9a20-4bcd095220c3",
   "metadata": {
    "tags": []
   },
   "source": [
    "Question 14:\n",
    "    \n",
    "Given the **root** of a Binary Search Tree (BST).\n",
    "\n",
    "Our task is to return the minimum absolute difference between the values of any two different nodes in the tree."
   ]
  },
  {
   "cell_type": "code",
   "execution_count": null,
   "id": "69c706ac-6841-452b-bc32-5427b4090f7f",
   "metadata": {},
   "outputs": [],
   "source": [
    "def getMinimumDifference(self, root: Optional[TreeNode]):\n",
    "    "
   ]
  },
  {
   "cell_type": "markdown",
   "id": "cc0cf882-0c1c-496a-ad29-fbd0849579aa",
   "metadata": {},
   "source": [
    "Question 15:\n",
    "    \n",
    "Given the **root** of a binary search tree and an integer k, return true if there exist two elements in the BST such that their sum is equal to k, or false otherwise."
   ]
  },
  {
   "cell_type": "code",
   "execution_count": null,
   "id": "9ea1dce9-7bbd-444f-8542-78d20bdfdcdd",
   "metadata": {},
   "outputs": [],
   "source": []
  },
  {
   "cell_type": "markdown",
   "id": "d7a241c8-0be2-42b3-8aed-7b36dc3c794c",
   "metadata": {},
   "source": [
    "# Graphs"
   ]
  },
  {
   "cell_type": "markdown",
   "id": "0d2ba54a-8ead-4892-86bd-410ba4089474",
   "metadata": {},
   "source": [
    "Problem 1: Given a node in a graph node, return the total number of nodes in the graph.\n",
    "    "
   ]
  },
  {
   "cell_type": "code",
   "execution_count": 2,
   "id": "6ef50f79-2b2b-452a-8f5f-0c39b78e073e",
   "metadata": {
    "tags": []
   },
   "outputs": [],
   "source": [
    "def NumNodes(node):\n",
    "    pass"
   ]
  },
  {
   "cell_type": "markdown",
   "id": "df770549-628e-4e1d-802d-d9abb2492ce7",
   "metadata": {},
   "source": [
    "Problem 2: Given a 2D array (i.e., a matrix) containing only 1s (land) and 0s (water), count the number of islands in it.\n",
    "\n",
    "An island is a connected set of 1s (land) and is surrounded by either an edge or 0s (water). Each cell is considered connected to other cells horizontally or vertically (not diagonally)."
   ]
  },
  {
   "cell_type": "code",
   "execution_count": 5,
   "id": "8fb70300-2e46-4e45-ac15-48b3e2808e98",
   "metadata": {
    "tags": []
   },
   "outputs": [],
   "source": [
    "def countIslands(matrix):\n",
    "    pass\n",
    "\n",
    "def visit_is_land_DFS(matrix,  x,  y):\n",
    "    pass"
   ]
  },
  {
   "cell_type": "markdown",
   "id": "d53fbe6f-0036-47f1-aa07-265e7bac1780",
   "metadata": {},
   "source": [
    "Problem 3: Given a 2D array (i.e., a matrix) containing only 1s (land) and 0s (water), find the biggest island in it. Write a function to return the area of the biggest island. \n",
    "\n",
    "An island is a connected set of 1s (land) and is surrounded by either an edge or 0s (water). Each cell is considered connected to other cells horizontally or vertically (not diagonally)."
   ]
  },
  {
   "cell_type": "code",
   "execution_count": 7,
   "id": "955f6986-0af0-4258-aed0-cbaa4211c499",
   "metadata": {
    "tags": []
   },
   "outputs": [],
   "source": [
    "def maxAreaOfIsland(matrix):\n",
    "    pass\n",
    "\n",
    "def visit_is_land_DFS(matrix,  x,  y):\n",
    "    pass"
   ]
  },
  {
   "cell_type": "markdown",
   "id": "df33e147-dc34-4efe-864f-7b98a5341d97",
   "metadata": {},
   "source": [
    "Problem 4: Any image can be represented by a 2D integer array (i.e., a matrix) where each cell represents the pixel value of the image.\n",
    "\n",
    "Flood fill algorithm takes a starting cell (i.e., a pixel) and a color. The given color is applied to all horizontally and vertically connected cells with the same color as that of the starting cell. Recursively, the algorithm fills cells with the new color until it encounters a cell with a different color than the starting cell.\n",
    "\n",
    "Given a matrix, a starting cell, and a color, flood fill the matrix."
   ]
  },
  {
   "cell_type": "code",
   "execution_count": 8,
   "id": "be365762-53d6-4142-8dbb-bcf5552b3fcc",
   "metadata": {
    "tags": []
   },
   "outputs": [],
   "source": [
    "def floodFill(matrix, x, y, newColor):\n",
    "    pass\n",
    "\n",
    "\n",
    "def fill_DFS(matrix,  x,  y, oldColor, newColor):\n",
    "    pass"
   ]
  },
  {
   "cell_type": "code",
   "execution_count": null,
   "id": "f0a4845c-455c-4ebf-9938-44d4b19b6ac8",
   "metadata": {},
   "outputs": [],
   "source": []
  }
 ],
 "metadata": {
  "kernelspec": {
   "display_name": "Python 3 (ipykernel)",
   "language": "python",
   "name": "python3"
  },
  "language_info": {
   "codemirror_mode": {
    "name": "ipython",
    "version": 3
   },
   "file_extension": ".py",
   "mimetype": "text/x-python",
   "name": "python",
   "nbconvert_exporter": "python",
   "pygments_lexer": "ipython3",
   "version": "3.11.4"
  }
 },
 "nbformat": 4,
 "nbformat_minor": 5
}
