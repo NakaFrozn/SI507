{
 "cells": [
  {
   "cell_type": "markdown",
   "id": "b18957ae-a1a5-41f4-963b-3408fb96030a",
   "metadata": {
    "tags": []
   },
   "source": [
    "# LeetCode - Recursion problems!!!"
   ]
  },
  {
   "cell_type": "markdown",
   "id": "5d54398b-6a55-4db7-ba07-0fa9ac7ed3f3",
   "metadata": {},
   "source": [
    "## Recursion\n",
    "\n",
    "Recursion is an approach that breaks down large problems into repeated smaller\n",
    "sub-problems.\n",
    "\n",
    "Implemented by functions calling themselves!\n",
    "\n"
   ]
  },
  {
   "cell_type": "markdown",
   "id": "b72d2f26-4a31-426a-95c3-f282ffc45a56",
   "metadata": {},
   "source": [
    "**Question 1**: Calculate the Sum of the First N Natural Numbers Using a Recursive Approach."
   ]
  },
  {
   "cell_type": "code",
   "execution_count": 1,
   "id": "b9d2665a-1621-411e-90d7-6a697d2322de",
   "metadata": {
    "tags": []
   },
   "outputs": [
    {
     "name": "stdout",
     "output_type": "stream",
     "text": [
      "55\n"
     ]
    }
   ],
   "source": [
    "def calculateSum(N):\n",
    "    if N == 0:\n",
    "        return 0\n",
    "    return N + calculateSum(N-1)\n",
    "\n",
    "print(calculateSum(10))"
   ]
  },
  {
   "cell_type": "markdown",
   "id": "cefeb5ac-b9e6-4099-b195-5eba2b6113d3",
   "metadata": {
    "tags": []
   },
   "source": [
    "**Question 2**: Calculate the Factorial of a Positive Number Using Recursion."
   ]
  },
  {
   "cell_type": "code",
   "execution_count": 2,
   "id": "6112ecc2-0ec5-432b-bc36-c154ac17e46b",
   "metadata": {
    "tags": []
   },
   "outputs": [
    {
     "name": "stdout",
     "output_type": "stream",
     "text": [
      "3628800\n"
     ]
    }
   ],
   "source": [
    "def calculateFactorial(number):\n",
    "    if number == 0:\n",
    "        return 1\n",
    "    return number * calculateFactorial(number-1)\n",
    "\n",
    "print(calculateFactorial(10))"
   ]
  },
  {
   "cell_type": "markdown",
   "id": "db05c6bf-e516-43e3-b4f7-9f16dea9d6a0",
   "metadata": {},
   "source": [
    "**Question 3**: Write recursive code to calculate the Greatest Common Divisor (GCD) of Two Positive Numbers."
   ]
  },
  {
   "cell_type": "code",
   "execution_count": 7,
   "id": "3e1535ce-cc97-4f09-9f30-bccc2c6090cd",
   "metadata": {
    "tags": []
   },
   "outputs": [
    {
     "name": "stdout",
     "output_type": "stream",
     "text": [
      "100\n"
     ]
    }
   ],
   "source": [
    "def calculateGCD(A, B):\n",
    "    A, B = max(A, B), min(A, B)\n",
    "    if B == 0:\n",
    "        return A\n",
    "    return calculateGCD(B, A % B)\n",
    "\n",
    "print(calculateGCD(100, 150000))"
   ]
  },
  {
   "cell_type": "markdown",
   "id": "c6aa4892-84c0-4c6b-8f87-5cc89b44f450",
   "metadata": {},
   "source": [
    "**Question 4**: Write a Recursive Procedure to Convert a Decimal Number to a Binary Equivalent."
   ]
  },
  {
   "cell_type": "code",
   "execution_count": 8,
   "id": "96948b9a-b8c4-4356-ae3c-f7c68c2926a6",
   "metadata": {
    "tags": []
   },
   "outputs": [
    {
     "name": "stdout",
     "output_type": "stream",
     "text": [
      "1010\n"
     ]
    }
   ],
   "source": [
    "def decimalToBinary(decimal):\n",
    "    # use recursive procedure to convert decimal to binary\n",
    "    if decimal == 0:\n",
    "        return 0\n",
    "    return decimal % 2 + 10 * decimalToBinary(decimal // 2)\n",
    "\n",
    "print(decimalToBinary(10))\n",
    "    \n",
    "    "
   ]
  },
  {
   "cell_type": "markdown",
   "id": "d64aa4de-b3c0-4447-963b-2172e546dd12",
   "metadata": {},
   "source": [
    "## Two pointers"
   ]
  },
  {
   "cell_type": "markdown",
   "id": "7e85cd14-63ba-4fe0-b04c-4dd864f6c778",
   "metadata": {
    "tags": []
   },
   "source": [
    "**Question 1**: Given an array of numbers sorted in ascending order and a target sum, find a pair in the array whose sum is equal to the given target. If no such pair exists return [-1, -1].\n",
    "\n",
    "Write a function to return the indices of the two numbers (i.e. the pair) such that they add up to the given target."
   ]
  },
  {
   "cell_type": "markdown",
   "id": "9100a5b0-c193-4d30-865a-56e99dfc328c",
   "metadata": {
    "tags": []
   },
   "source": [
    "**Example 1**: Input: [1, 2, 3, 4, 6], Target=6\n",
    "\n",
    "Output: [1, 3] Explanation: The numbers at index 1 and 3 add up to 6: 2+4=6\n",
    "\n",
    "\n",
    "**Example 2**: Input: [2, 5, 9, 11], Target=11\n",
    "\n",
    "Output: [0, 2] Explanation: The numbers at index 0 and 2 add up to 11: 2+9=11"
   ]
  },
  {
   "cell_type": "code",
   "execution_count": 12,
   "id": "37cd7806-b4bb-49b3-aa0d-96153c2eabc5",
   "metadata": {
    "tags": []
   },
   "outputs": [],
   "source": [
    "#Brute Force solution?\n"
   ]
  },
  {
   "cell_type": "code",
   "execution_count": 9,
   "id": "aac45405-0ab0-4ca7-89de-c47612559761",
   "metadata": {
    "tags": []
   },
   "outputs": [
    {
     "name": "stdout",
     "output_type": "stream",
     "text": [
      "[0, 8]\n"
     ]
    }
   ],
   "source": [
    "def twoSum(arr, target):\n",
    "    left = 0\n",
    "    right = len(arr) - 1\n",
    "    while left < right:\n",
    "        if arr[left] + arr[right] == target:\n",
    "            return [left, right]\n",
    "        elif arr[left] + arr[right] < target:\n",
    "            left += 1\n",
    "        else:\n",
    "            right -= 1\n",
    "    return [-1, -1]\n",
    "\n",
    "print(twoSum([1, 2, 3, 4, 5, 6, 7, 8, 9], 10))"
   ]
  },
  {
   "cell_type": "markdown",
   "id": "a47b6db1-5592-4a39-8bc5-991d29cad841",
   "metadata": {
    "tags": []
   },
   "source": [
    "## What if the array is not sorted? How would you solve it then?"
   ]
  },
  {
   "cell_type": "markdown",
   "id": "f366e4b0-fecf-4db1-b169-8220eaa1bec3",
   "metadata": {},
   "source": [
    "## **Question 2**: Expand the concept to 3-sum problem"
   ]
  },
  {
   "cell_type": "markdown",
   "id": "2b27fdc1-ae7b-4497-9c6f-989c355cb4b3",
   "metadata": {
    "tags": []
   },
   "source": [
    "Given an array of unsorted numbers, find all unique triplets in it that add up to zero.\n",
    "\n",
    "Example 1:\n",
    "\n",
    "Input: [-3, 0, 1, 2, -1, 1, -2]\n",
    "\n",
    "Output: [[-3, 1, 2], [-2, 0, 2], [-2, 1, 1], [-1, 0, 1]]\n",
    "\n",
    "Explanation: There are four unique triplets whose sum is equal to zero. smallest sum.'\n",
    "\n",
    "Example 2:\n",
    "\n",
    "Input: [-5, 2, -1, -2, 3]\n",
    "\n",
    "Output: [[-5, 2, 3], [-2, -1, 3]]\n",
    "\n",
    "Explanation: There are two unique triplets whose sum is equal to zero."
   ]
  },
  {
   "cell_type": "code",
   "execution_count": 15,
   "id": "a8ee4a29-38db-4912-ba4d-23fd1dc6e4ad",
   "metadata": {
    "tags": []
   },
   "outputs": [],
   "source": [
    "def searchTriplets(arr):\n",
    "    pass"
   ]
  },
  {
   "cell_type": "markdown",
   "id": "90536c8c-69c5-4a8f-9d6b-691da1fa6914",
   "metadata": {},
   "source": [
    "**Question 3**: Given a sorted array, create a new array containing squares of all the numbers of the input array in the sorted order.\n",
    "\n",
    "Example 1:\n",
    "\n",
    "Input: [-2, -1, 0, 2, 3]\n",
    "\n",
    "Output: [0, 1, 4, 4, 9]\n",
    "\n",
    "Example 2:\n",
    "\n",
    "Input: [-3, -1, 0, 1, 2]\n",
    "\n",
    "Output: [0, 1, 1, 4, 9]"
   ]
  },
  {
   "cell_type": "code",
   "execution_count": 16,
   "id": "3f07b080-ac1d-4b2e-a4df-eec007423e26",
   "metadata": {
    "tags": []
   },
   "outputs": [],
   "source": [
    "def squares(arr):\n",
    "    pass"
   ]
  },
  {
   "cell_type": "markdown",
   "id": "af720c06-019b-4cc0-8c69-082a560f3d51",
   "metadata": {},
   "source": [
    "**Question 4**: Given an array of sorted numbers, move all non-duplicate number instances at the beginning of the array in-place. The relative order of the elements should be kept the same and you should not use any extra space so that the solution has constant space complexity i.e., O(1).\n",
    "\n",
    "Move all the unique number instances at the beginning of the array and after moving return the length of the subarray that has no duplicate in it.\n",
    "\n",
    "Input: [2, 3, 3, 3, 6, 9, 9] Output: 4 Explanation: The first four elements after moving element will be [2, 3, 6, 9]."
   ]
  },
  {
   "cell_type": "code",
   "execution_count": 17,
   "id": "6e4e3e79-8590-4587-857e-7792d3fcaa49",
   "metadata": {
    "tags": []
   },
   "outputs": [],
   "source": [
    "def remove(arr):\n",
    "    pass"
   ]
  },
  {
   "cell_type": "code",
   "execution_count": null,
   "id": "9e1c3c60-715e-4f7d-a625-dbd2e8f8ade2",
   "metadata": {},
   "outputs": [],
   "source": []
  }
 ],
 "metadata": {
  "kernelspec": {
   "display_name": "Python 3 (ipykernel)",
   "language": "python",
   "name": "python3"
  },
  "language_info": {
   "codemirror_mode": {
    "name": "ipython",
    "version": 3
   },
   "file_extension": ".py",
   "mimetype": "text/x-python",
   "name": "python",
   "nbconvert_exporter": "python",
   "pygments_lexer": "ipython3",
   "version": "3.11.4"
  }
 },
 "nbformat": 4,
 "nbformat_minor": 5
}
